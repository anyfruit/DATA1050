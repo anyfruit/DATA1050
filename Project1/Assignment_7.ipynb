{
 "cells": [
  {
   "cell_type": "code",
   "execution_count": 15,
   "metadata": {},
   "outputs": [],
   "source": [
    "from pymongo import MongoClient\n",
    "from datetime import datetime"
   ]
  },
  {
   "cell_type": "code",
   "execution_count": 2,
   "metadata": {},
   "outputs": [],
   "source": [
    "client = MongoClient(\"localhost\", 27017)"
   ]
  },
  {
   "cell_type": "code",
   "execution_count": 39,
   "metadata": {},
   "outputs": [
    {
     "name": "stdout",
     "output_type": "stream",
     "text": [
      "['admin', 'config', 'library', 'local', 'mongoTest']\n",
      "['books', 'checkout', 'user']\n"
     ]
    }
   ],
   "source": [
    "db = client.library\n",
    "print(client.list_database_names())\n",
    "print(client.library.list_collection_names())"
   ]
  },
  {
   "cell_type": "code",
   "execution_count": null,
   "metadata": {},
   "outputs": [
    {
     "data": {
      "text/plain": [
       "InsertManyResult([ObjectId('6737efa5f99c40b4be8c3c98'), ObjectId('6737efa5f99c40b4be8c3c99'), ObjectId('6737efa5f99c40b4be8c3c9a')], acknowledged=True)"
      ]
     },
     "execution_count": 13,
     "metadata": {},
     "output_type": "execute_result"
    }
   ],
   "source": [
    "# title, primary author, secondary authors (if any), date of first publication, number of pages, publisher, translator (if any), and primary topic\n",
    "books = db.books\n",
    "\n",
    "# Insert multiple documents into the 'books' collection\n",
    "books.insert_many([\n",
    "    {\n",
    "        \"title\": \"Elements of Statistical Learning: Data Mining, Inference, and Prediction\",\n",
    "        \"primary_author\": \"Hastie, Trevor\",\n",
    "        \"secondary_authors\": [\"Tibshirani, Robert\", \"Friedman, Jerome\"],\n",
    "        \"publication_date\": 2009,\n",
    "        \"num_pages\": 757,\n",
    "        \"publisher\": \"New York: Springer\",\n",
    "        \"primary_topic\": \"Statistical Learning\"\n",
    "    },\n",
    "    {\n",
    "        \"title\": \"Deep Learning\",\n",
    "        \"primary_author\": \"Massaron, Luca\",\n",
    "        \"publication_date\": 2019,\n",
    "        \"num_pages\": 371,\n",
    "        \"publisher\": \"Hoboken, N.J.: J. Wiley\",\n",
    "        \"primary_topic\": \"Deep Learning\"\n",
    "    },\n",
    "    {\n",
    "        \"title\": \"Linear Models\",\n",
    "        \"primary_author\": \"Searle, S. R.\",\n",
    "        \"publication_date\": 2017,\n",
    "        \"num_pages\": 685,\n",
    "        \"publisher\": \"Hoboken, New Jersey: Wiley\",\n",
    "        \"primary_topic\": \"Linear Models\"\n",
    "    }\n",
    "])\n"
   ]
  },
  {
   "cell_type": "code",
   "execution_count": 14,
   "metadata": {},
   "outputs": [
    {
     "name": "stdout",
     "output_type": "stream",
     "text": [
      "{'_id': ObjectId('6737efa5f99c40b4be8c3c98'), 'title': 'Elements of Statistical Learning: Data Mining, Inference, and Prediction', 'primary_author': 'Hastie, Trevor', 'secondary_authors': ['Tibshirani, Robert', 'Friedman, Jerome'], 'publication_date': 2009, 'num_pages': 757, 'publisher': 'New York: Springer', 'primary_topic': 'Statistical Learning'}\n",
      "{'_id': ObjectId('6737efa5f99c40b4be8c3c99'), 'title': 'Deep Learning', 'primary_author': 'Massaron, Luca', 'publication_date': 2019, 'num_pages': 371, 'publisher': 'Hoboken, N.J.: J. Wiley', 'primary_topic': 'Deep Learning'}\n",
      "{'_id': ObjectId('6737efa5f99c40b4be8c3c9a'), 'title': 'Linear Models', 'primary_author': 'Searle, S. R.', 'publication_date': 2017, 'num_pages': 685, 'publisher': 'Hoboken, New Jersey: Wiley', 'primary_topic': 'Linear Models'}\n"
     ]
    }
   ],
   "source": [
    "for book in books.find():\n",
    "    print(book)"
   ]
  },
  {
   "cell_type": "code",
   "execution_count": null,
   "metadata": {},
   "outputs": [
    {
     "data": {
      "text/plain": [
       "InsertManyResult([ObjectId('67380217f99c40b4be8c3c9b'), ObjectId('67380217f99c40b4be8c3c9c'), ObjectId('67380217f99c40b4be8c3c9d'), ObjectId('67380217f99c40b4be8c3c9e')], acknowledged=True)"
      ]
     },
     "execution_count": 16,
     "metadata": {},
     "output_type": "execute_result"
    }
   ],
   "source": [
    "# User id, name, phone, address, university affiliation\n",
    "user = db.user\n",
    "\n",
    "user.insert_many([\n",
    "    {\n",
    "        \"user_id\": 1,\n",
    "        \"user_name\": \"Whats Up\",\n",
    "        \"phone\": 1234567890,\n",
    "        \"address\": \"123 Hello St, Providence, RI\",\n",
    "        \"univ_affiliation\": \"Brown University\"\n",
    "    },\n",
    "    {\n",
    "        \"user_id\": 2,\n",
    "        \"user_name\": \"Hello Oh\",\n",
    "        \"phone\": 1234567891,\n",
    "        \"address\": \"456 Hello St, Providence, RI\",\n",
    "        \"univ_affiliation\": \"Brown University\"\n",
    "    },\n",
    "    {\n",
    "        \"user_id\": 3,\n",
    "        \"user_name\": \"Happy Friday\",\n",
    "        \"phone\": 1234567893,\n",
    "        \"address\": \"789 Hello St, Providence, RI\",\n",
    "        \"univ_affiliation\": \"Boston University\"\n",
    "    },\n",
    "    {\n",
    "        \"user_id\": 4,\n",
    "        \"user_name\": \"Good Morning\",\n",
    "        \"phone\": 1234567896,\n",
    "        \"address\": \"111 Hello St, Providence, RI\",\n",
    "        \"univ_affiliation\": \"Brown University\"\n",
    "    }\n",
    "])"
   ]
  },
  {
   "cell_type": "code",
   "execution_count": 17,
   "metadata": {},
   "outputs": [
    {
     "name": "stdout",
     "output_type": "stream",
     "text": [
      "{'_id': ObjectId('67380217f99c40b4be8c3c9b'), 'user_id': 1, 'user_name': 'Whats Up', 'phone': 1234567890, 'address': '123 Hello St, Providence, RI', 'univ_affiliation': 'Brown University'}\n",
      "{'_id': ObjectId('67380217f99c40b4be8c3c9c'), 'user_id': 2, 'user_name': 'Hello Oh', 'phone': 1234567891, 'address': '456 Hello St, Providence, RI', 'univ_affiliation': 'Brown University'}\n",
      "{'_id': ObjectId('67380217f99c40b4be8c3c9d'), 'user_id': 3, 'user_name': 'Happy Friday', 'phone': 1234567893, 'address': '789 Hello St, Providence, RI', 'univ_affiliation': 'Brown University'}\n",
      "{'_id': ObjectId('67380217f99c40b4be8c3c9e'), 'user_id': 4, 'user_name': 'Good Morning', 'phone': 1234567896, 'address': '111 Hello St, Providence, RI', 'univ_affiliation': 'Brown University'}\n"
     ]
    }
   ],
   "source": [
    "for x in user.find():\n",
    "    print(x)"
   ]
  },
  {
   "cell_type": "code",
   "execution_count": 31,
   "metadata": {},
   "outputs": [
    {
     "data": {
      "text/plain": [
       "InsertManyResult([ObjectId('6738045df99c40b4be8c3ca8'), ObjectId('6738045df99c40b4be8c3ca9'), ObjectId('6738045df99c40b4be8c3caa'), ObjectId('6738045df99c40b4be8c3cab'), ObjectId('6738045df99c40b4be8c3cac'), ObjectId('6738045df99c40b4be8c3cad')], acknowledged=True)"
      ]
     },
     "execution_count": 31,
     "metadata": {},
     "output_type": "execute_result"
    }
   ],
   "source": [
    "# checkout\n",
    "checkout = db.checkout\n",
    "\n",
    "checkout.insert_many([\n",
    "    {\n",
    "        \"user_id\": 1,\n",
    "        \"user_name\": \"Whats Up\",\n",
    "        \"date\": datetime(2024, 11, 11),\n",
    "        \"book_name\": \"Deep Learning\"\n",
    "    },\n",
    "    {\n",
    "        \"user_id\": 2,\n",
    "        \"user_name\": \"Hello Oh\",\n",
    "        \"date\": datetime(2024, 11, 17),\n",
    "        \"book_name\": \"Deep Learning\"\n",
    "    },\n",
    "    {\n",
    "        \"user_id\": 4,\n",
    "        \"user_name\": \"Good Morning\",\n",
    "        \"date\": datetime(2024, 11, 11),\n",
    "        \"book_name\": \"Elements of Statistical Learning: Data Mining, Inference, and Prediction\"\n",
    "    },\n",
    "    {\n",
    "        \"user_id\": 4,\n",
    "        \"user_name\": \"Good Morning\",\n",
    "        \"date\": datetime(2024, 11, 11),\n",
    "        \"book_name\": \"Linear Models\"\n",
    "    },\n",
    "    {\n",
    "        \"user_id\": 3,\n",
    "        \"user_name\": \"Happy Friday\",\n",
    "        \"date\": datetime(2024, 11, 1),\n",
    "        \"book_name\": \"Linear Models\"\n",
    "    },\n",
    "    {\n",
    "        \"user_id\": 1,\n",
    "        \"user_name\": \"Whats Up\",\n",
    "        \"date\": datetime(2024, 11, 20),\n",
    "        \"book_name\": \"Linear Models\"\n",
    "    }\n",
    "])\n"
   ]
  },
  {
   "cell_type": "code",
   "execution_count": 32,
   "metadata": {},
   "outputs": [
    {
     "name": "stdout",
     "output_type": "stream",
     "text": [
      "{'_id': ObjectId('6738045df99c40b4be8c3ca8'), 'user_id': 1, 'user_name': 'Whats Up', 'date': datetime.datetime(2024, 11, 11, 0, 0), 'book_name': 'Deep Learning'}\n",
      "{'_id': ObjectId('6738045df99c40b4be8c3ca9'), 'user_id': 2, 'user_name': 'Hello Oh', 'date': datetime.datetime(2024, 11, 17, 0, 0), 'book_name': 'Deep Learning'}\n",
      "{'_id': ObjectId('6738045df99c40b4be8c3caa'), 'user_id': 4, 'user_name': 'Good Morning', 'date': datetime.datetime(2024, 11, 11, 0, 0), 'book_name': 'Elements of Statistical Learning: Data Mining, Inference, and Prediction'}\n",
      "{'_id': ObjectId('6738045df99c40b4be8c3cab'), 'user_id': 4, 'user_name': 'Good Morning', 'date': datetime.datetime(2024, 11, 11, 0, 0), 'book_name': 'Linear Models'}\n",
      "{'_id': ObjectId('6738045df99c40b4be8c3cac'), 'user_id': 3, 'user_name': 'Happy Friday', 'date': datetime.datetime(2024, 11, 1, 0, 0), 'book_name': 'Linear Models'}\n",
      "{'_id': ObjectId('6738045df99c40b4be8c3cad'), 'user_id': 1, 'user_name': 'Whats Up', 'date': datetime.datetime(2024, 11, 20, 0, 0), 'book_name': 'Linear Models'}\n"
     ]
    }
   ],
   "source": [
    "for x in checkout.find():\n",
    "    print(x)"
   ]
  },
  {
   "cell_type": "code",
   "execution_count": 33,
   "metadata": {},
   "outputs": [
    {
     "name": "stdout",
     "output_type": "stream",
     "text": [
      "{'_id': ObjectId('6738045df99c40b4be8c3caa'), 'user_id': 4, 'user_name': 'Good Morning', 'date': datetime.datetime(2024, 11, 11, 0, 0), 'book_name': 'Elements of Statistical Learning: Data Mining, Inference, and Prediction'}\n"
     ]
    }
   ],
   "source": [
    "# Which users have checked out 'Elements of Statistical Learning: Data Mining, Inference, and Prediction'?\n",
    "\n",
    "results = checkout.find({\"book_name\": \"Elements of Statistical Learning: Data Mining, Inference, and Prediction\"})\n",
    "\n",
    "# Print the results\n",
    "for user in results:\n",
    "    print(user)\n"
   ]
  },
  {
   "cell_type": "code",
   "execution_count": 34,
   "metadata": {},
   "outputs": [
    {
     "name": "stdout",
     "output_type": "stream",
     "text": [
      "{'_id': ObjectId('6738045df99c40b4be8c3ca8'), 'user_id': 1, 'user_name': 'Whats Up', 'date': datetime.datetime(2024, 11, 11, 0, 0), 'book_name': 'Deep Learning'}\n",
      "{'_id': ObjectId('6738045df99c40b4be8c3ca9'), 'user_id': 2, 'user_name': 'Hello Oh', 'date': datetime.datetime(2024, 11, 17, 0, 0), 'book_name': 'Deep Learning'}\n"
     ]
    }
   ],
   "source": [
    "# Which users from Brown University have checked out books on Deep Learning?\n",
    "# Step 1: Find user_ids affiliated with Brown University\n",
    "brown_users = db.user.find({\"univ_affiliation\": \"Brown University\"}, {\"user_id\": 1, \"_id\": 0})\n",
    "brown_user_ids = [user[\"user_id\"] for user in brown_users]\n",
    "\n",
    "# Step 2: Query the checkout collection for \"Deep Learning\" and the filtered user_ids\n",
    "results = db.checkout.find({\n",
    "    \"book_name\": \"Deep Learning\",\n",
    "    \"user_id\": {\"$in\": brown_user_ids}\n",
    "})\n",
    "\n",
    "# Step 3: Display the results\n",
    "for user in results:\n",
    "    print(user)\n"
   ]
  },
  {
   "cell_type": "code",
   "execution_count": 35,
   "metadata": {},
   "outputs": [
    {
     "name": "stdout",
     "output_type": "stream",
     "text": [
      "2\n"
     ]
    }
   ],
   "source": [
    "# How many times is the book 'Deep Learning' been checked out?\n",
    "count = db.checkout.count_documents({\"book_name\": \"Deep Learning\"})\n",
    "print(count)"
   ]
  }
 ],
 "metadata": {
  "kernelspec": {
   "display_name": "data1050",
   "language": "python",
   "name": "python3"
  },
  "language_info": {
   "codemirror_mode": {
    "name": "ipython",
    "version": 3
   },
   "file_extension": ".py",
   "mimetype": "text/x-python",
   "name": "python",
   "nbconvert_exporter": "python",
   "pygments_lexer": "ipython3",
   "version": "3.12.7"
  }
 },
 "nbformat": 4,
 "nbformat_minor": 2
}
