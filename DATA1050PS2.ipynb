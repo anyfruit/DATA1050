{
 "cells": [
  {
   "cell_type": "code",
   "execution_count": 6,
   "id": "22bcc8f3-ce8f-4e94-83f2-b963b79a8048",
   "metadata": {},
   "outputs": [
    {
     "name": "stdout",
     "output_type": "stream",
     "text": [
      "Requirement already satisfied: mysql-connector-python in /opt/anaconda3/lib/python3.12/site-packages (9.0.0)\n",
      "Note: you may need to restart the kernel to use updated packages.\n"
     ]
    }
   ],
   "source": [
    "pip install mysql-connector-python"
   ]
  },
  {
   "cell_type": "markdown",
   "id": "8e2e555e-9a96-4771-8c9e-f53661d13403",
   "metadata": {},
   "source": [
    "Part 1: In this part of the assignment you will extend the database you created in Assignment One by adding the following tables to it: course, prereq, advisor, and classroom. You must refer to the schema diagram shown in slide 29 of Lecture 3 which is posted in the Google Drive with the lecture notes. This diagram specifies the attributes (fields) of each of these tables, as well as the primary key (which may be composite), and the foreign key references. Your database should implement these fields, constraints, and relations. \n",
    "\n",
    "Please think also of which fields cannot be null and which fields must be unique. Please implement these constraints as well. (These are not represented in the schema diagram.)\n",
    "\n",
    "In doing this part you may create the tables using any method you find convenient: the DBMS GUI or Python code or the command line interface (CLI)."
   ]
  },
  {
   "cell_type": "code",
   "execution_count": 1,
   "id": "f944e240-e541-4b99-adc7-d2d7edc7946d",
   "metadata": {},
   "outputs": [
    {
     "name": "stdout",
     "output_type": "stream",
     "text": [
      "<mysql.connector.connection_cext.CMySQLConnection object at 0x1051c4c50>\n",
      "CONNECTION SUCCESSFUL\n"
     ]
    }
   ],
   "source": [
    "import mysql.connector\n",
    " \n",
    "mydb = mysql.connector.connect(\n",
    "  host=\"localhost\",\n",
    "  user=\"root\",\n",
    "  password=\"Yankejing020711\"   #REPLACE THIS WITH THE PASSWORD YOU SET\n",
    ")\n",
    " \n",
    "print(mydb)\n",
    " \n",
    "if mydb.is_connected():\n",
    "    print(\"CONNECTION SUCCESSFUL\")\n"
   ]
  },
  {
   "cell_type": "code",
   "execution_count": 3,
   "id": "7935b913-4d45-4f78-9a8e-4c96afc684be",
   "metadata": {},
   "outputs": [],
   "source": [
    "mydb = mysql.connector.connect(\n",
    "  host=\"localhost\",\n",
    "  user=\"root\",\n",
    "  password=\"Yankejing020711\", #REPLACE THIS WITH YOUR PASSWORD \n",
    "  database = \"data1050f24\" #connecting to testDatabase\n",
    ")\n",
    "\n",
    "#redo table\n",
    "mycursor = mydb.cursor()\n",
    "\n",
    "mycursor.execute(\"DROP TABLE IF EXISTS course, prereq, advisor, classroom;\")"
   ]
  },
  {
   "cell_type": "code",
   "execution_count": 5,
   "id": "a2659bce-fd53-4462-8759-2950fe3277e3",
   "metadata": {},
   "outputs": [],
   "source": [
    "#create course\n",
    "mycursor = mydb.cursor()\n",
    "\n",
    "mycursor.execute(\"CREATE TABLE data1050F24.course (\"\n",
    "                    \"course_id     varchar(128),\"\n",
    "                    \"title         varchar(255),\"\n",
    "                    \"dept_name     varchar(128) NOT NULL,\"\n",
    "                    \"credits       numeric(2,1),\"\n",
    "                    \"PRIMARY KEY (course_id),\"\n",
    "                    \"FOREIGN KEY (dept_name) REFERENCES department (dept_name) ON UPDATE CASCADE)\"\n",
    "                 )"
   ]
  },
  {
   "cell_type": "code",
   "execution_count": 7,
   "id": "17d3dacd-9256-449b-9366-f924e5e620f6",
   "metadata": {},
   "outputs": [],
   "source": [
    "#create prereq, advisor, classroom\n",
    "mycursor = mydb.cursor()\n",
    "\n",
    "mycursor.execute(\"CREATE TABLE data1050F24.prereq (\"\n",
    "                    \"course_id     varchar(128),\"\n",
    "                    \"prereq_id     varchar(128),\"\n",
    "                    \"PRIMARY KEY (course_id, prereq_id),\"\n",
    "                    \"FOREIGN KEY (course_id) REFERENCES course (course_id) ON UPDATE CASCADE,\"\n",
    "                    \"FOREIGN KEY (prereq_id) REFERENCES course (course_id) ON UPDATE CASCADE)\"\n",
    "                 )"
   ]
  },
  {
   "cell_type": "code",
   "execution_count": 9,
   "id": "3d2d2f3a-a32d-4dd1-acbd-0b20f2a7633d",
   "metadata": {},
   "outputs": [],
   "source": [
    "#create advisor, classroom\n",
    "mycursor = mydb.cursor()\n",
    "\n",
    "mycursor.execute(\"CREATE TABLE data1050F24.advisor (\"\n",
    "                    \"s_id     varchar(128),\"\n",
    "                    \"i_id     varchar(128) NOT NULL,\"\n",
    "                    \"PRIMARY KEY (s_id),\"\n",
    "                    \"FOREIGN KEY (i_id) REFERENCES instructor (ID) ON UPDATE CASCADE,\"\n",
    "                    \"FOREIGN KEY (s_id) REFERENCES student (ID) ON UPDATE CASCADE)\"\n",
    "                 )"
   ]
  },
  {
   "cell_type": "code",
   "execution_count": 11,
   "id": "6b7fd094-4061-4747-a9bb-a737a8bc3851",
   "metadata": {},
   "outputs": [],
   "source": [
    "#create classroom\n",
    "mycursor = mydb.cursor()\n",
    "\n",
    "mycursor.execute(\"CREATE TABLE data1050F24.classroom (\"\n",
    "                    \"building    varchar(255),\"\n",
    "                    \"room_no     varchar(255),\"\n",
    "                    \"capacity    bigint,\"\n",
    "                    \"PRIMARY KEY (building, room_no))\"\n",
    "                 )"
   ]
  },
  {
   "cell_type": "code",
   "execution_count": 13,
   "id": "de87bebf-6326-4b86-be0d-905d14c0ccd2",
   "metadata": {},
   "outputs": [
    {
     "name": "stdout",
     "output_type": "stream",
     "text": [
      "('advisor',)\n",
      "('classroom',)\n",
      "('course',)\n",
      "('coursetitle',)\n",
      "('data1050list',)\n",
      "('department',)\n",
      "('instructor',)\n",
      "('prereq',)\n",
      "('starttime',)\n",
      "('student',)\n"
     ]
    }
   ],
   "source": [
    "#connect to a specific database\n",
    "mydb = mysql.connector.connect(\n",
    "  host=\"localhost\",\n",
    "  user=\"root\",\n",
    "  password=\"Yankejing020711\", #REPLACE THIS WITH YOUR PASSWORD \n",
    "  database = \"data1050f24\" #connecting to testDatabase\n",
    ")\n",
    "\n",
    "# check if all tables created\n",
    "mycursor = mydb.cursor()\n",
    "mycursor.execute(\"SHOW TABLES\")\n",
    "\n",
    "for x in mycursor:\n",
    "  print(x)"
   ]
  },
  {
   "cell_type": "markdown",
   "id": "eaefcccd-7987-4710-8077-5eeab13eb529",
   "metadata": {},
   "source": [
    "Part 2: For this part you will populate the tables you created in Part 1 using the data in the files course.csv, prereq.csv, advisor.csv, and classroom.csv. Naturally, the data in course.csv should be used to populate course table, and so on. These files are posted in Files/data folder on the Canvas site. You may insert this data one by one (using the GUI or CLI or Python script), but I strongly urge you to use a (Python) loop in the manner shown in the code that was supplied for Assignment One. (Suggestion to the first-year DSI students: the sooner you start getting comfortable with Python, the better. Many of the courses in the DSI curriculum require you to code in Python.) "
   ]
  },
  {
   "cell_type": "code",
   "execution_count": 15,
   "id": "8a00940d-5d23-4f4c-bdc9-cc9fefcb9410",
   "metadata": {},
   "outputs": [],
   "source": [
    "import pandas as pd"
   ]
  },
  {
   "cell_type": "code",
   "execution_count": 22,
   "id": "026320c6-fff8-45df-911d-d72b7f7c9f4b",
   "metadata": {},
   "outputs": [
    {
     "name": "stdout",
     "output_type": "stream",
     "text": [
      "Requirement already satisfied: fsspec in /opt/anaconda3/lib/python3.12/site-packages (2024.6.1)\n",
      "Note: you may need to restart the kernel to use updated packages.\n"
     ]
    }
   ],
   "source": [
    "pip install fsspec"
   ]
  },
  {
   "cell_type": "code",
   "execution_count": 17,
   "id": "fcebddbc-8f9a-4b12-8fec-cc71d406634c",
   "metadata": {},
   "outputs": [
    {
     "name": "stdout",
     "output_type": "stream",
     "text": [
      "Record inserted\n",
      "Record inserted\n",
      "Record inserted\n",
      "Record inserted\n",
      "Record inserted\n",
      "Record inserted\n",
      "Record inserted\n",
      "Record inserted\n",
      "Record inserted\n",
      "Record inserted\n",
      "Record inserted\n",
      "Record inserted\n",
      "Record inserted\n",
      "Record inserted\n",
      "Record inserted\n",
      "Record inserted\n"
     ]
    }
   ],
   "source": [
    "#point the path to where in your hard drive you have stored the file department.csv\n",
    "data = pd.read_csv(\"~/Desktop/DATA1050/data/course.csv\")\n",
    "\n",
    "for i,row in data.iterrows():\n",
    "            sql = \"INSERT INTO course VALUES (%s,%s,%s,%s)\"\n",
    "            mycursor.execute(sql, tuple(row))\n",
    "            print(\"Record inserted\")\n",
    "            # the connection is not autocommitted by default, so we \n",
    "            # must commit to save our changes\n",
    "            mydb.commit()"
   ]
  },
  {
   "cell_type": "code",
   "execution_count": 19,
   "id": "bd790cee-7448-46fb-a0e6-813856163cd2",
   "metadata": {},
   "outputs": [
    {
     "name": "stdout",
     "output_type": "stream",
     "text": [
      "Record inserted\n",
      "Record inserted\n",
      "Record inserted\n",
      "Record inserted\n",
      "Record inserted\n",
      "Record inserted\n",
      "Record inserted\n"
     ]
    }
   ],
   "source": [
    "#point the path to where in your hard drive you have stored the file department.csv\n",
    "data = pd.read_csv(\"~/Desktop/DATA1050/data/prereq.csv\")\n",
    "\n",
    "for i,row in data.iterrows():\n",
    "            sql = \"INSERT INTO prereq VALUES (%s,%s)\"\n",
    "            mycursor.execute(sql, tuple(row))\n",
    "            print(\"Record inserted\")\n",
    "            # the connection is not autocommitted by default, so we \n",
    "            # must commit to save our changes\n",
    "            mydb.commit()"
   ]
  },
  {
   "cell_type": "code",
   "execution_count": 21,
   "id": "091fd405-f2e6-4ddd-b423-f78b79eec3d1",
   "metadata": {},
   "outputs": [
    {
     "name": "stdout",
     "output_type": "stream",
     "text": [
      "Record inserted\n",
      "Record inserted\n",
      "Record inserted\n",
      "Record inserted\n",
      "Record inserted\n",
      "Record inserted\n",
      "Record inserted\n",
      "Record inserted\n",
      "Record inserted\n"
     ]
    }
   ],
   "source": [
    "#point the path to where in your hard drive you have stored the file department.csv\n",
    "data = pd.read_csv(\"~/Desktop/DATA1050/data/advisor.csv\")\n",
    "\n",
    "for i,row in data.iterrows():\n",
    "            sql = \"INSERT INTO advisor VALUES (%s,%s)\"\n",
    "            mycursor.execute(sql, tuple(row))\n",
    "            print(\"Record inserted\")\n",
    "            # the connection is not autocommitted by default, so we \n",
    "            # must commit to save our changes\n",
    "            mydb.commit()"
   ]
  },
  {
   "cell_type": "code",
   "execution_count": 23,
   "id": "f9aa1c23-1cdb-46f2-b5f6-770e6e85353f",
   "metadata": {},
   "outputs": [
    {
     "name": "stdout",
     "output_type": "stream",
     "text": [
      "Record inserted\n",
      "Record inserted\n",
      "Record inserted\n",
      "Record inserted\n",
      "Record inserted\n",
      "Record inserted\n",
      "Record inserted\n",
      "Record inserted\n",
      "Record inserted\n",
      "Record inserted\n",
      "Record inserted\n",
      "Record inserted\n",
      "Record inserted\n",
      "Record inserted\n"
     ]
    }
   ],
   "source": [
    "#point the path to where in your hard drive you have stored the file department.csv\n",
    "data = pd.read_csv(\"~/Desktop/DATA1050/data/classroom.csv\")\n",
    "\n",
    "for i,row in data.iterrows():\n",
    "            sql = \"INSERT INTO classroom VALUES (%s,%s,%s)\"\n",
    "            mycursor.execute(sql, tuple(row))\n",
    "            print(\"Record inserted\")\n",
    "            # the connection is not autocommitted by default, so we \n",
    "            # must commit to save our changes\n",
    "            mydb.commit()"
   ]
  },
  {
   "cell_type": "code",
   "execution_count": null,
   "id": "4b2b8a80-d3ea-49a5-b1aa-0cff8987241c",
   "metadata": {},
   "outputs": [],
   "source": []
  },
  {
   "cell_type": "code",
   "execution_count": null,
   "id": "3a10fa69-0fc1-4329-9451-ff7dc74740c7",
   "metadata": {},
   "outputs": [],
   "source": []
  },
  {
   "cell_type": "code",
   "execution_count": null,
   "id": "ade0aedf-c3cd-4302-a09b-819176e1d337",
   "metadata": {},
   "outputs": [],
   "source": []
  }
 ],
 "metadata": {
  "kernelspec": {
   "display_name": "Python 3 (ipykernel)",
   "language": "python",
   "name": "python3"
  },
  "language_info": {
   "codemirror_mode": {
    "name": "ipython",
    "version": 3
   },
   "file_extension": ".py",
   "mimetype": "text/x-python",
   "name": "python",
   "nbconvert_exporter": "python",
   "pygments_lexer": "ipython3",
   "version": "3.12.4"
  }
 },
 "nbformat": 4,
 "nbformat_minor": 5
}
