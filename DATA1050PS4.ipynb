{
 "cells": [
  {
   "cell_type": "code",
   "execution_count": 1,
   "metadata": {},
   "outputs": [
    {
     "name": "stdout",
     "output_type": "stream",
     "text": [
      "<mysql.connector.connection_cext.CMySQLConnection object at 0x11050f140>\n",
      "CONNECTION SUCCESSFUL\n"
     ]
    }
   ],
   "source": [
    "import mysql.connector\n",
    " \n",
    "mydb = mysql.connector.connect(\n",
    "  host=\"localhost\",\n",
    "  user=\"root\",\n",
    "  password=\"Yankejing020711\"   #REPLACE THIS WITH THE PASSWORD YOU SET\n",
    ")\n",
    " \n",
    "print(mydb)\n",
    " \n",
    "if mydb.is_connected():\n",
    "    print(\"CONNECTION SUCCESSFUL\")"
   ]
  },
  {
   "cell_type": "code",
   "execution_count": 2,
   "metadata": {},
   "outputs": [],
   "source": [
    "mydb = mysql.connector.connect(\n",
    "  host=\"localhost\",\n",
    "  user=\"root\",\n",
    "  password=\"Yankejing020711\", #REPLACE THIS WITH YOUR PASSWORD \n",
    "  database = \"data1050f24\" #connecting to testDatabase\n",
    ")"
   ]
  },
  {
   "cell_type": "markdown",
   "metadata": {},
   "source": [
    "1. Find the id, title and section_id of all the courses being taught in Fall 2023."
   ]
  },
  {
   "cell_type": "code",
   "execution_count": 16,
   "metadata": {},
   "outputs": [],
   "source": [
    "mycursor = mydb.cursor()\n",
    "\n",
    "mycursor.execute(\n",
    "    \"\"\"\n",
    "    SELECT S.course_id, C.title, S.sec_id\n",
    "    FROM course AS C\n",
    "    JOIN section AS S\n",
    "    ON C.course_id = S.course_id\n",
    "    WHERE S.semester = 'Fall'\n",
    "    AND S.year = 2023;\n",
    "    \"\"\"\n",
    ")"
   ]
  },
  {
   "cell_type": "code",
   "execution_count": 18,
   "metadata": {},
   "outputs": [
    {
     "name": "stdout",
     "output_type": "stream",
     "text": [
      "('Data2050', 'Practicum', '1')\n",
      "('CSCI1270', 'Database Management Systems', '1')\n",
      "('CSCI1270', 'Database Management Systems', '2')\n",
      "('Data1030', 'Hands-on data science', '1')\n",
      "('Psyc2134', 'Intro to Cognitive Science', '1')\n",
      "('Data1050', 'Data Engineering', '1')\n"
     ]
    }
   ],
   "source": [
    "# fetch all the rows from the result of the query\n",
    "result = mycursor.fetchall()\n",
    "# print\n",
    "for row in result:\n",
    "    print(row)"
   ]
  },
  {
   "cell_type": "markdown",
   "metadata": {},
   "source": [
    "2. Find the id, title, section_id, and instructor name of all courses being taught in Fall 2023"
   ]
  },
  {
   "cell_type": "code",
   "execution_count": 21,
   "metadata": {},
   "outputs": [],
   "source": [
    "mycursor = mydb.cursor()\n",
    "\n",
    "mycursor.execute(\n",
    "    \"\"\"\n",
    "    SELECT S.course_id, C.title, S.sec_id, I.name\n",
    "    FROM section AS S\n",
    "    JOIN course AS C ON S.course_id = C.course_id\n",
    "    JOIN teaches AS T ON (S.course_id, S.sec_id, S.semester, S.year) = (T.course_id, T.sec_id, T.semester, T.year)\n",
    "    JOIN instructor AS I ON T.ID = I.ID\n",
    "    WHERE T.semester = 'Fall' \n",
    "    AND T.year = 2023;\n",
    "    \"\"\"\n",
    ")"
   ]
  },
  {
   "cell_type": "code",
   "execution_count": 23,
   "metadata": {},
   "outputs": [
    {
     "name": "stdout",
     "output_type": "stream",
     "text": [
      "('CSCI1270', 'Database Management Systems', '1', 'Ying Zheng')\n",
      "('CSCI1270', 'Database Management Systems', '2', 'Calista Holistic')\n",
      "('Data1030', 'Hands-on data science', '1', 'Carmen Herman')\n",
      "('Data1050', 'Data Engineering', '1', 'Joe Smith')\n",
      "('Data2050', 'Practicum', '1', 'Joe Smith')\n",
      "('Psyc2134', 'Intro to Cognitive Science', '1', 'Taylor Slow')\n",
      "('Psyc2134', 'Intro to Cognitive Science', '1', 'Rashid Irani')\n"
     ]
    }
   ],
   "source": [
    "# fetch all the rows from the result of the query\n",
    "result = mycursor.fetchall()\n",
    "# print\n",
    "for row in result:\n",
    "    print(row)"
   ]
  },
  {
   "cell_type": "markdown",
   "metadata": {},
   "source": [
    "3. Write a SQL instruction to change (i.e., update) the time_slot_id of all courses which are 6 to 2. You may not delete these and insert new ones; use the update command."
   ]
  },
  {
   "cell_type": "code",
   "execution_count": 26,
   "metadata": {},
   "outputs": [],
   "source": [
    "# Clear any pending results\n",
    "mycursor=mydb.cursor()\n",
    "\n",
    "# Perform the update\n",
    "mycursor.execute(\n",
    "    \"\"\"\n",
    "    UPDATE section\n",
    "    SET time_slot_id = 2\n",
    "    WHERE time_slot_id = 6;\n",
    "    \"\"\"\n",
    ")"
   ]
  },
  {
   "cell_type": "code",
   "execution_count": 28,
   "metadata": {},
   "outputs": [
    {
     "name": "stdout",
     "output_type": "stream",
     "text": [
      "('APMA1650', '1', 'Spring', 2023, 'Sayles', '128', 3)\n",
      "('CSCI1270', '1', 'Fall', 2023, 'CIT', '312', 2)\n",
      "('CSCI1270', '2', 'Fall', 2023, None, None, 2)\n",
      "('Data1030', '1', 'Fall', 2022, 'Franklin', '212', 2)\n",
      "('Data1030', '1', 'Fall', 2023, 'Franklin', '212', 2)\n",
      "('Data1050', '1', 'Fall', 2022, 'CIT', '404', 3)\n",
      "('Data1050', '1', 'Fall', 2023, 'Franklin', '212', 8)\n",
      "('Data1450', '1', 'Spring', 2024, None, None, None)\n",
      "('Data2050', '1', 'Fall', 2023, None, None, None)\n",
      "('Data2050', '1', 'Spring', 2023, None, None, None)\n",
      "('Data2050', '1', 'Summer', 2023, None, None, None)\n",
      "('Econ2180', '1', 'Spring', 2023, 'Skinner', '140', 7)\n",
      "('Psyc2134', '1', 'Fall', 2023, 'Angell', '405', 2)\n",
      "('Soc1872O', '1', 'Spring', 2023, 'Sayles', '128', 5)\n"
     ]
    }
   ],
   "source": [
    "query = \"SELECT * from section\"\n",
    "mycursor.execute(query)\n",
    "for x in mycursor:\n",
    "    print(x)"
   ]
  },
  {
   "cell_type": "markdown",
   "metadata": {},
   "source": [
    "4. Find the course id, title, section and start time of all courses taught in Fall 2022"
   ]
  },
  {
   "cell_type": "code",
   "execution_count": 31,
   "metadata": {},
   "outputs": [],
   "source": [
    "query=\"DROP VIEW IF EXISTS starttime;\"\n",
    "mycursor=mydb.cursor()\n",
    "mycursor.execute(query)"
   ]
  },
  {
   "cell_type": "code",
   "execution_count": 33,
   "metadata": {},
   "outputs": [],
   "source": [
    "mycursor = mydb.cursor()\n",
    "\n",
    "mycursor.execute(\n",
    "        \"\"\"\n",
    "        CREATE VIEW starttime AS\n",
    "        SELECT S.course_id, S.sec_id, S.semester, S.year, T.start_time\n",
    "        FROM section AS S\n",
    "        JOIN time_slot AS T\n",
    "        ON S.time_slot_id = T.time_slot_id\n",
    "        \"\"\"\n",
    ")"
   ]
  },
  {
   "cell_type": "code",
   "execution_count": 35,
   "metadata": {},
   "outputs": [
    {
     "name": "stdout",
     "output_type": "stream",
     "text": [
      "('CSCI1270', '1', 'Fall', 2023, datetime.timedelta(seconds=39600))\n",
      "('CSCI1270', '2', 'Fall', 2023, datetime.timedelta(seconds=39600))\n",
      "('Data1030', '1', 'Fall', 2022, datetime.timedelta(seconds=39600))\n",
      "('Data1030', '1', 'Fall', 2023, datetime.timedelta(seconds=39600))\n",
      "('Psyc2134', '1', 'Fall', 2023, datetime.timedelta(seconds=39600))\n",
      "('APMA1650', '1', 'Spring', 2023, datetime.timedelta(seconds=3600))\n",
      "('Data1050', '1', 'Fall', 2022, datetime.timedelta(seconds=3600))\n",
      "('Soc1872O', '1', 'Spring', 2023, datetime.timedelta(seconds=32400))\n",
      "('Econ2180', '1', 'Spring', 2023, datetime.timedelta(seconds=3600))\n",
      "('Data1050', '1', 'Fall', 2023, datetime.timedelta(seconds=32400))\n"
     ]
    }
   ],
   "source": [
    "query = \"\"\"\n",
    "SELECT * FROM starttime;\n",
    "\"\"\"\n",
    "mycursor.execute(query)\n",
    "\n",
    "for x in mycursor:\n",
    "    print(x)"
   ]
  },
  {
   "cell_type": "code",
   "execution_count": 37,
   "metadata": {},
   "outputs": [],
   "source": [
    "mycursor = mydb.cursor()\n",
    "\n",
    "mycursor.execute(\n",
    "        \"\"\"\n",
    "        SELECT T.course_id, C.title, C.sec_id, T.start_time\n",
    "        FROM starttime AS T\n",
    "        JOIN coursetitle AS C\n",
    "        ON (T.course_id, T.sec_id, T.semester, T.year) = (C.course_id, C.sec_id, C.semester, C.year)\n",
    "        WHERE (C.semester = 'Fall') AND (C.year = 2022);\n",
    "        \"\"\"\n",
    ")"
   ]
  },
  {
   "cell_type": "code",
   "execution_count": 39,
   "metadata": {},
   "outputs": [
    {
     "name": "stdout",
     "output_type": "stream",
     "text": [
      "('Data1030', 'Hands-on data science', '1', datetime.timedelta(seconds=39600))\n",
      "('Data1050', 'Data Engineering', '1', datetime.timedelta(seconds=3600))\n"
     ]
    }
   ],
   "source": [
    "# fetch all the rows from the result of the query\n",
    "result = mycursor.fetchall()\n",
    "# print\n",
    "for row in result:\n",
    "    print(row)"
   ]
  },
  {
   "cell_type": "markdown",
   "metadata": {},
   "source": [
    "5. Write a SQL instruction so that all students with ID 1238 and 1333 who have a null grade in any course, have their grade changed to 'A'."
   ]
  },
  {
   "cell_type": "markdown",
   "metadata": {},
   "source": [
    "mycursor = mydb.cursor()\n",
    "query = \"TRUNCATE TABLE takes;\"\n",
    "mycursor.execute(query)"
   ]
  },
  {
   "cell_type": "markdown",
   "metadata": {},
   "source": [
    "import pandas as pd\n",
    "import numpy as np\n",
    "data = pd.read_csv(\"~/Desktop/DATA1050/data/takes.csv\")\n",
    "data = data.replace({np.nan: None})\n",
    "\n",
    "for i,row in data.iterrows():\n",
    "            sql = \"INSERT INTO data1050F24.takes VALUES (%s,%s,%s,%s,%s,%s)\"\n",
    "            mycursor.execute(sql, tuple(row))\n",
    "            #print(\"Record inserted\")\n",
    "            # the connection is not autocommitted by default, so we \n",
    "            # must commit to save our changes\n",
    "            mydb.commit()"
   ]
  },
  {
   "cell_type": "code",
   "execution_count": 41,
   "metadata": {},
   "outputs": [],
   "source": [
    "mycursor = mydb.cursor()\n",
    "\n",
    "mycursor.execute(\n",
    "    \"\"\"\n",
    "    CREATE TEMPORARY TABLE originalcredits AS\n",
    "    SELECT ID, course_id, sec_id, semester, year, grade\n",
    "    FROM takes\n",
    "    \"\"\"\n",
    ")"
   ]
  },
  {
   "cell_type": "code",
   "execution_count": 43,
   "metadata": {},
   "outputs": [
    {
     "name": "stdout",
     "output_type": "stream",
     "text": [
      "('1122', 'CSCI1270', '2', 'Fall', 2023, None)\n",
      "('1122', 'Data1050', '1', 'Fall', 2023, None)\n",
      "('1238', 'CSCI1270', '1', 'Fall', 2023, None)\n",
      "('1238', 'Data1030', '1', 'Fall', 2023, None)\n",
      "('1238', 'Data1050', '1', 'Fall', 2022, 'A')\n",
      "('1333', 'APMA1650', '1', 'Spring', 2023, 'B')\n",
      "('1333', 'CSCI1270', '1', 'Fall', 2023, None)\n",
      "('1333', 'Data1030', '1', 'Fall', 2022, 'A')\n",
      "('1333', 'Data1050', '1', 'Fall', 2022, 'A')\n",
      "('1333', 'Data2050', '1', 'Fall', 2023, None)\n",
      "('1845', 'CSCI1270', '2', 'Fall', 2023, None)\n",
      "('1845', 'Data1050', '1', 'Fall', 2023, None)\n",
      "('1888', 'CSCI1270', '1', 'Fall', 2023, None)\n",
      "('1888', 'Data1050', '1', 'Fall', 2023, None)\n",
      "('1934', 'Data1050', '1', 'Fall', 2023, None)\n",
      "('1970', 'Data1050', '1', 'Fall', 2023, None)\n",
      "('1999', 'CSCI1270', '1', 'Fall', 2023, None)\n",
      "('1999', 'Data1050', '1', 'Fall', 2023, None)\n",
      "('2142', 'CSCI1270', '1', 'Fall', 2023, None)\n",
      "('2142', 'Data1050', '1', 'Fall', 2023, None)\n",
      "('2143', 'Data1050', '1', 'Fall', 2023, None)\n",
      "('2946', 'Data1050', '1', 'Fall', 2023, None)\n",
      "('3303', 'Data1050', '1', 'Fall', 2023, None)\n"
     ]
    }
   ],
   "source": [
    "mycursor = mydb.cursor()\n",
    "\n",
    "query = \"\"\"\n",
    "SELECT * FROM originalcredits;\n",
    "\"\"\"\n",
    "mycursor.execute(query)\n",
    "\n",
    "for x in mycursor:\n",
    "    print(x)"
   ]
  },
  {
   "cell_type": "code",
   "execution_count": 45,
   "metadata": {},
   "outputs": [],
   "source": [
    "mycursor = mydb.cursor()\n",
    "\n",
    "mycursor.execute(\n",
    "    \"\"\"\n",
    "    UPDATE takes\n",
    "    SET grade = 'A'\n",
    "    WHERE grade IS NULL AND ID IN (1238, 1333);\n",
    "    \"\"\"\n",
    ")"
   ]
  },
  {
   "cell_type": "code",
   "execution_count": 47,
   "metadata": {},
   "outputs": [
    {
     "name": "stdout",
     "output_type": "stream",
     "text": [
      "('1122', 'CSCI1270', '2', 'Fall', 2023, None)\n",
      "('1122', 'Data1050', '1', 'Fall', 2023, None)\n",
      "('1238', 'CSCI1270', '1', 'Fall', 2023, 'A')\n",
      "('1238', 'Data1030', '1', 'Fall', 2023, 'A')\n",
      "('1238', 'Data1050', '1', 'Fall', 2022, 'A')\n",
      "('1333', 'APMA1650', '1', 'Spring', 2023, 'B')\n",
      "('1333', 'CSCI1270', '1', 'Fall', 2023, 'A')\n",
      "('1333', 'Data1030', '1', 'Fall', 2022, 'A')\n",
      "('1333', 'Data1050', '1', 'Fall', 2022, 'A')\n",
      "('1333', 'Data2050', '1', 'Fall', 2023, 'A')\n",
      "('1845', 'CSCI1270', '2', 'Fall', 2023, None)\n",
      "('1845', 'Data1050', '1', 'Fall', 2023, None)\n",
      "('1888', 'CSCI1270', '1', 'Fall', 2023, None)\n",
      "('1888', 'Data1050', '1', 'Fall', 2023, None)\n",
      "('1934', 'Data1050', '1', 'Fall', 2023, None)\n",
      "('1970', 'Data1050', '1', 'Fall', 2023, None)\n",
      "('1999', 'CSCI1270', '1', 'Fall', 2023, None)\n",
      "('1999', 'Data1050', '1', 'Fall', 2023, None)\n",
      "('2142', 'CSCI1270', '1', 'Fall', 2023, None)\n",
      "('2142', 'Data1050', '1', 'Fall', 2023, None)\n",
      "('2143', 'Data1050', '1', 'Fall', 2023, None)\n",
      "('2946', 'Data1050', '1', 'Fall', 2023, None)\n",
      "('3303', 'Data1050', '1', 'Fall', 2023, None)\n"
     ]
    }
   ],
   "source": [
    "mycursor = mydb.cursor()\n",
    "\n",
    "query = \"\"\"\n",
    "SELECT * FROM takes;\n",
    "\"\"\"\n",
    "mycursor.execute(query)\n",
    "\n",
    "for x in mycursor:\n",
    "    print(x)"
   ]
  },
  {
   "cell_type": "markdown",
   "metadata": {},
   "source": [
    "6. After executing this instruction write a query to make appropriate changes to the tot_credit of those students (that is, increment it by the credits assigned to those courses where the grade was changed.)"
   ]
  },
  {
   "cell_type": "code",
   "execution_count": 49,
   "metadata": {},
   "outputs": [],
   "source": [
    "query=\"DROP TABLE IF EXISTS updatecourse;\"\n",
    "mycursor=mydb.cursor()\n",
    "mycursor.execute(query)"
   ]
  },
  {
   "cell_type": "code",
   "execution_count": 51,
   "metadata": {},
   "outputs": [],
   "source": [
    "mycursor = mydb.cursor()\n",
    "\n",
    "mycursor.execute(\n",
    "    \"\"\"\n",
    "    CREATE TEMPORARY TABLE updatecourse AS\n",
    "    SELECT T.course_id, T.ID\n",
    "    FROM takes AS T\n",
    "    JOIN originalcredits AS O\n",
    "    ON (T.ID, T.course_id, T.sec_id, T.semester, T.year) = (O.ID, O.course_id, O.sec_id, O.semester, O.year)\n",
    "    WHERE (T.grade <> O.grade OR (T.grade IS NULL AND O.grade IS NOT NULL) OR (T.grade IS NOT NULL AND O.grade IS NULL))\n",
    "    \"\"\"\n",
    ")"
   ]
  },
  {
   "cell_type": "code",
   "execution_count": 53,
   "metadata": {},
   "outputs": [
    {
     "name": "stdout",
     "output_type": "stream",
     "text": [
      "('CSCI1270', '1238')\n",
      "('Data1030', '1238')\n",
      "('CSCI1270', '1333')\n",
      "('Data2050', '1333')\n"
     ]
    }
   ],
   "source": [
    "mycursor = mydb.cursor()\n",
    "\n",
    "query = \"\"\"\n",
    "SELECT * FROM updatecourse;\n",
    "\"\"\"\n",
    "mycursor.execute(query)\n",
    "\n",
    "for x in mycursor:\n",
    "    print(x)"
   ]
  },
  {
   "cell_type": "code",
   "execution_count": 55,
   "metadata": {},
   "outputs": [],
   "source": [
    "mycursor = mydb.cursor()\n",
    "\n",
    "mycursor.execute(\n",
    "    \"\"\"\n",
    "    UPDATE student\n",
    "    SET tot_cred = tot_cred +\n",
    "    (SELECT SUM(C.credits)\n",
    "    FROM course AS C \n",
    "    JOIN updatecourse AS U \n",
    "    ON C.course_id = U.course_id\n",
    "    WHERE U.ID = '1238')\n",
    "    WHERE ID = '1238';\n",
    "    \"\"\"\n",
    ")"
   ]
  },
  {
   "cell_type": "code",
   "execution_count": 57,
   "metadata": {},
   "outputs": [],
   "source": [
    "mycursor = mydb.cursor()\n",
    "\n",
    "mycursor.execute(\n",
    "    \"\"\"\n",
    "    UPDATE student\n",
    "    SET tot_cred = tot_cred +\n",
    "    (SELECT SUM(C.credits)\n",
    "    FROM course AS C \n",
    "    JOIN updatecourse AS U \n",
    "    ON C.course_id = U.course_id\n",
    "    WHERE U.ID = '1333')\n",
    "    WHERE ID = '1333';\n",
    "    \"\"\"\n",
    ")"
   ]
  },
  {
   "cell_type": "code",
   "execution_count": 59,
   "metadata": {},
   "outputs": [
    {
     "name": "stdout",
     "output_type": "stream",
     "text": [
      "('1238', 'John Smith', 'DSI', Decimal('6.00'))\n",
      "('1333', 'Mukesh Modi', 'DSI', Decimal('9.00'))\n"
     ]
    }
   ],
   "source": [
    "mycursor = mydb.cursor()\n",
    "\n",
    "query = \"\"\"\n",
    "SELECT ID, name, dept_name, tot_cred\n",
    "FROM student\n",
    "WHERE ID IN ('1238', '1333');\n",
    "\"\"\"\n",
    "mycursor.execute(query)\n",
    "\n",
    "for x in mycursor:\n",
    "    print(x)"
   ]
  },
  {
   "cell_type": "markdown",
   "metadata": {},
   "source": [
    "7. After executing the instructions for 4 and 5, write a query to return the ID and names of those students who have the most credits."
   ]
  },
  {
   "cell_type": "code",
   "execution_count": 61,
   "metadata": {},
   "outputs": [
    {
     "name": "stdout",
     "output_type": "stream",
     "text": [
      "('Ivan Petrov', '1221')\n",
      "('Mukesh Modi', '1333')\n",
      "('Jane Doe', '1645')\n",
      "('Steve Brown', '2946')\n"
     ]
    }
   ],
   "source": [
    "mycursor = mydb.cursor()\n",
    "\n",
    "mycursor.execute(\n",
    "    \"\"\"\n",
    "    SELECT name, ID\n",
    "    FROM student\n",
    "    WHERE tot_cred = (SELECT MAX(tot_cred) FROM student)\n",
    "    \"\"\"\n",
    ")\n",
    "\n",
    "for x in mycursor:\n",
    "    print(x)"
   ]
  },
  {
   "cell_type": "markdown",
   "metadata": {},
   "source": [
    "mycursor = mydb.cursor()\n",
    "query = \"TRUNCATE TABLE student;\"\n",
    "mycursor.execute(query)"
   ]
  },
  {
   "cell_type": "markdown",
   "metadata": {},
   "source": [
    "import pandas as pd\n",
    "data = pd.read_csv(\"~/Desktop/DATA1050/data/student.csv\")\n",
    "\n",
    "for i,row in data.iterrows():\n",
    "            sql = \"INSERT INTO data1050F24.student VALUES (%s,%s,%s,%s)\"\n",
    "            mycursor.execute(sql, tuple(row))\n",
    "            #print(\"Record inserted\")\n",
    "            # the connection is not autocommitted by default, so we \n",
    "            # must commit to save our changes\n",
    "            mydb.commit()"
   ]
  },
  {
   "cell_type": "markdown",
   "metadata": {},
   "source": [
    "mycursor = mydb.cursor()\n",
    "\n",
    "query = \"\"\"DROP VIEW IF EXISTS coursecredits;\n",
    "DROP VIEW IF EXISTS coursetitle;\n",
    "DROP VIEW IF EXISTS data1050list;\n",
    "DROP VIEW IF EXISTS instructorname;\n",
    "DROP VIEW IF EXISTS originaltakes;\n",
    "DROP VIEW IF EXISTS starttime;\"\"\"\n",
    "mycursor.execute(query)"
   ]
  },
  {
   "cell_type": "code",
   "execution_count": null,
   "metadata": {},
   "outputs": [],
   "source": []
  }
 ],
 "metadata": {
  "kernelspec": {
   "display_name": "base",
   "language": "python",
   "name": "python3"
  },
  "language_info": {
   "codemirror_mode": {
    "name": "ipython",
    "version": 3
   },
   "file_extension": ".py",
   "mimetype": "text/x-python",
   "name": "python",
   "nbconvert_exporter": "python",
   "pygments_lexer": "ipython3",
   "version": "3.12.4"
  }
 },
 "nbformat": 4,
 "nbformat_minor": 4
}
