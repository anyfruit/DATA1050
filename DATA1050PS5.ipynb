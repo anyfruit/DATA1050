{
 "cells": [
  {
   "cell_type": "code",
   "execution_count": 1,
   "metadata": {},
   "outputs": [
    {
     "name": "stdout",
     "output_type": "stream",
     "text": [
      "<mysql.connector.connection_cext.CMySQLConnection object at 0x106383ad0>\n",
      "CONNECTION SUCCESSFUL\n"
     ]
    }
   ],
   "source": [
    "import mysql.connector\n",
    " \n",
    "mydb = mysql.connector.connect(\n",
    "  host=\"localhost\",\n",
    "  user=\"root\",\n",
    "  password=\"Yankejing020711\"   #REPLACE THIS WITH THE PASSWORD YOU SET\n",
    ")\n",
    " \n",
    "print(mydb)\n",
    " \n",
    "if mydb.is_connected():\n",
    "    print(\"CONNECTION SUCCESSFUL\")"
   ]
  },
  {
   "cell_type": "code",
   "execution_count": 2,
   "metadata": {},
   "outputs": [],
   "source": [
    "mydb = mysql.connector.connect(\n",
    "  host=\"localhost\",\n",
    "  user=\"root\",\n",
    "  password=\"Yankejing020711\", #REPLACE THIS WITH YOUR PASSWORD \n",
    "  database = \"data1050f24\" #connecting to testDatabase\n",
    ")"
   ]
  },
  {
   "cell_type": "markdown",
   "metadata": {},
   "source": [
    "1. Find the names of all students who have taken or are currently taking (in Fall' 23) Data 1050."
   ]
  },
  {
   "cell_type": "code",
   "execution_count": 4,
   "metadata": {},
   "outputs": [
    {
     "name": "stdout",
     "output_type": "stream",
     "text": [
      "('Julia Rodriguez',)\n",
      "('Jane Chen',)\n",
      "('Chuning Liu',)\n",
      "('Boris Pasternak',)\n",
      "('Stan Ambani',)\n",
      "('Peter Lynch',)\n",
      "('Sabrina Zhou',)\n",
      "('Maya Abdul',)\n",
      "('Steve Brown',)\n",
      "('Jane Lynch',)\n"
     ]
    }
   ],
   "source": [
    "mycursor = mydb.cursor()\n",
    "mycursor.execute(\n",
    "    '''\n",
    "    SELECT S.name\n",
    "    FROM student AS S\n",
    "    JOIN takes AS T\n",
    "    ON S.ID = T.ID\n",
    "    WHERE T.course_id = 'Data1050' AND T.semester = 'Fall' AND T.year = 2023;\n",
    "    '''\n",
    ")\n",
    "\n",
    "for x in mycursor:\n",
    "    print(x)"
   ]
  },
  {
   "cell_type": "markdown",
   "metadata": {},
   "source": [
    "2. Find the names of students who have taken Data 1050 more than once. (This would also include students who are currently taking Data 1050 and have also taken it in a previous semester.)"
   ]
  },
  {
   "cell_type": "code",
   "execution_count": 5,
   "metadata": {},
   "outputs": [],
   "source": [
    "mycursor = mydb.cursor()\n",
    "mycursor.execute(\n",
    "    '''\n",
    "    SELECT S.name, COUNT(S.name) AS count_1050\n",
    "    FROM student AS S\n",
    "    JOIN takes AS T\n",
    "    ON S.ID = T.ID\n",
    "    WHERE T.course_id = 'Data1050'\n",
    "    GROUP BY S.name\n",
    "    HAVING count_1050 > 1;\n",
    "    '''\n",
    ")\n",
    "\n",
    "for x in mycursor:\n",
    "    print(x)"
   ]
  },
  {
   "cell_type": "markdown",
   "metadata": {},
   "source": [
    "3. For each department, find the total number of students who have taken classes offered by that department in Fall, 22. Do not include any department for which this total number is less than 2."
   ]
  },
  {
   "cell_type": "code",
   "execution_count": 4,
   "metadata": {},
   "outputs": [
    {
     "name": "stdout",
     "output_type": "stream",
     "text": [
      "('DSI', 2)\n"
     ]
    }
   ],
   "source": [
    "mycursor = mydb.cursor()\n",
    "mycursor.execute(\n",
    "    '''\n",
    "    SELECT C.dept_name, COUNT(DISTINCT T.ID) AS student_count\n",
    "    FROM course C\n",
    "    JOIN section S ON S.course_id = C.course_id\n",
    "    JOIN takes T ON T.course_id = S.course_id AND T.sec_id = S.sec_id AND T.semester = S.semester AND T.year = S.year\n",
    "    WHERE S.semester = 'Fall' AND S.year = 2022\n",
    "    GROUP BY C.dept_name\n",
    "    HAVING student_count > 1\n",
    "    '''\n",
    ")\n",
    "\n",
    "for x in mycursor:\n",
    "    print(x)"
   ]
  },
  {
   "cell_type": "markdown",
   "metadata": {},
   "source": [
    "4. For each instructor,  output the name of the instructor and the total number of students they have taught in any section of any course. That is, the total number of students they have ever taught."
   ]
  },
  {
   "cell_type": "code",
   "execution_count": 3,
   "metadata": {},
   "outputs": [
    {
     "name": "stdout",
     "output_type": "stream",
     "text": [
      "('Calista Holistic', 2)\n",
      "('Carmen Herman', 2)\n",
      "('Joe Smith', 11)\n",
      "('Sunil Agarwal', 1)\n",
      "('Ying Zheng', 5)\n"
     ]
    }
   ],
   "source": [
    "mycursor = mydb.cursor()\n",
    "mycursor.execute(\n",
    "    '''\n",
    "    SELECT I.name, COUNT(DISTINCT TA.ID)\n",
    "    FROM instructor AS I\n",
    "    JOIN teaches AS T ON I.ID = T.ID\n",
    "    JOIN takes AS TA ON TA.course_id = T.course_id AND TA.sec_id = T.sec_id AND TA.semester = T.semester AND TA.year = T.year\n",
    "    GROUP BY I.name\n",
    "    '''\n",
    ")\n",
    "\n",
    "for x in mycursor:\n",
    "    print(x)"
   ]
  },
  {
   "cell_type": "markdown",
   "metadata": {},
   "source": [
    "5. Find the id and names of instructors who have taught the least number of students."
   ]
  },
  {
   "cell_type": "code",
   "execution_count": 5,
   "metadata": {},
   "outputs": [
    {
     "name": "stdout",
     "output_type": "stream",
     "text": [
      "('113', 'Sunil Agarwal')\n"
     ]
    }
   ],
   "source": [
    "mycursor = mydb.cursor()\n",
    "mycursor.execute(\n",
    "    '''\n",
    "    SELECT I.ID, I.name\n",
    "    FROM instructor AS I\n",
    "    JOIN teaches AS T ON I.ID = T.ID\n",
    "    JOIN takes AS TA ON TA.course_id = T.course_id AND TA.sec_id = T.sec_id AND TA.semester = T.semester AND TA.year = T.year\n",
    "    GROUP BY I.ID, I.name\n",
    "    HAVING COUNT(TA.ID) = (\n",
    "        SELECT MIN(student_count)\n",
    "        FROM (\n",
    "            SELECT I.ID, COUNT(TA.ID) AS student_count\n",
    "            FROM instructor AS I\n",
    "            JOIN teaches AS T ON I.ID = T.ID\n",
    "            JOIN takes AS TA ON TA.course_id = T.course_id AND TA.sec_id = T.sec_id AND TA.semester = T.semester AND TA.year = T.year\n",
    "            GROUP BY I.ID) AS subquery\n",
    "    );\n",
    "    '''\n",
    ")\n",
    "\n",
    "for x in mycursor:\n",
    "    print(x)"
   ]
  },
  {
   "cell_type": "markdown",
   "metadata": {},
   "source": [
    "6. Find the names of any classes (identified by course_id and section) being taught in Fall '23 such that the number of students taking that class exceeds the capacity of the classroom in which the class is taught."
   ]
  },
  {
   "cell_type": "code",
   "execution_count": 8,
   "metadata": {},
   "outputs": [],
   "source": [
    "mycursor = mydb.cursor()\n",
    "mycursor.execute(\n",
    "    '''\n",
    "    SELECT S.course_id, S.sec_id\n",
    "    FROM section S\n",
    "    JOIN classroom C ON S.building = C.building AND S.room_no = C.room_no\n",
    "    WHERE S.semester = 'Fall' AND S.year = 2023\n",
    "    AND (SELECT COUNT(T.ID)\n",
    "        FROM takes T\n",
    "        WHERE T.course_id = S.course_id AND T.sec_id = S.sec_id AND T.semester = S.semester AND T.year = S.year)\n",
    "        > C.capacity;\n",
    "    '''\n",
    ")\n",
    "\n",
    "for x in mycursor:\n",
    "    print(x)"
   ]
  },
  {
   "cell_type": "code",
   "execution_count": null,
   "metadata": {},
   "outputs": [],
   "source": []
  }
 ],
 "metadata": {
  "kernelspec": {
   "display_name": "base",
   "language": "python",
   "name": "python3"
  },
  "language_info": {
   "codemirror_mode": {
    "name": "ipython",
    "version": 3
   },
   "file_extension": ".py",
   "mimetype": "text/x-python",
   "name": "python",
   "nbconvert_exporter": "python",
   "pygments_lexer": "ipython3",
   "version": "3.12.4"
  }
 },
 "nbformat": 4,
 "nbformat_minor": 2
}
