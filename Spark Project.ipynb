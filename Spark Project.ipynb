{
 "cells": [
  {
   "cell_type": "code",
   "execution_count": 0,
   "metadata": {
    "application/vnd.databricks.v1+cell": {
     "cellMetadata": {
      "byteLimit": 2048000,
      "rowLimit": 10000
     },
     "inputWidgets": {},
     "nuid": "937b3332-b750-4adc-b549-59bc5fb721f0",
     "showTitle": false,
     "tableResultSettingsMap": {},
     "title": ""
    }
   },
   "outputs": [],
   "source": [
    "from pyspark.sql import SparkSession"
   ]
  },
  {
   "cell_type": "code",
   "execution_count": 0,
   "metadata": {
    "application/vnd.databricks.v1+cell": {
     "cellMetadata": {
      "byteLimit": 2048000,
      "rowLimit": 10000
     },
     "inputWidgets": {},
     "nuid": "9e27ebfa-f6e7-42f9-9444-2000bd9862a8",
     "showTitle": false,
     "tableResultSettingsMap": {},
     "title": ""
    }
   },
   "outputs": [],
   "source": [
    "spark = SparkSession.builder.getOrCreate()"
   ]
  },
  {
   "cell_type": "code",
   "execution_count": 0,
   "metadata": {
    "application/vnd.databricks.v1+cell": {
     "cellMetadata": {
      "byteLimit": 2048000,
      "rowLimit": 10000
     },
     "inputWidgets": {},
     "nuid": "762c7d8a-716c-4af8-bb66-80a06bff78c3",
     "showTitle": false,
     "tableResultSettingsMap": {},
     "title": ""
    },
    "jupyter": {
     "outputs_hidden": true
    }
   },
   "outputs": [],
   "source": [
    "from pyspark.sql.types import StructType, StructField, StringType, IntegerType\n",
    "\n",
    "# Define the schema\n",
    "schema = StructType([\n",
    "    StructField(\"sentiment\", StringType(), True),\n",
    "    StructField(\"publication_URL\", StringType(), True),\n",
    "    StructField(\"product_URL\", StringType(), True),\n",
    "    StructField(\"got_click\", IntegerType(), True),\n",
    "    StructField(\"gender\", StringType(), True),\n",
    "    StructField(\"age_group\", StringType(), True)\n",
    "])\n",
    "\n",
    "log = spark.read.csv(\"/FileStore/tables/log.csv\", schema=schema, header=False)\n",
    "product = spark.read.csv(\"/FileStore/tables/products.csv\", header=True)\n",
    "product_cat = spark.read.csv(\"/FileStore/tables/product_categories.csv\", header=True)"
   ]
  },
  {
   "cell_type": "code",
   "execution_count": 0,
   "metadata": {
    "application/vnd.databricks.v1+cell": {
     "cellMetadata": {
      "byteLimit": 2048000,
      "rowLimit": 10000
     },
     "inputWidgets": {},
     "nuid": "14b537d2-ba16-46bc-8285-b221774edfe3",
     "showTitle": false,
     "tableResultSettingsMap": {},
     "title": ""
    }
   },
   "outputs": [
    {
     "output_type": "stream",
     "name": "stdout",
     "output_type": "stream",
     "text": [
      "+---------+--------------------+--------------------+---------+----------+----------+\n|sentiment|     publication_URL|         product_URL|got_click|    gender| age_group|\n+---------+--------------------+--------------------+---------+----------+----------+\n| positive|https://www.foxne...|https://lees.com/...|        0|    female|  juvenile|\n|  neutral|https://www.mirro...|https://coach.com...|        0|      male|     young|\n| negative|https://www.nbcne...|https://covergirl...|        0|      male|middle-age|\n| positive|https://www.exami...|https://covergirl...|        0|non-binary|  juvenile|\n| negative|  https://www.nj.com|https://dell.com/...|        1|    female|     young|\n| positive|https://www.chica...|https://remington...|        1|      male|    senior|\n| negative|https://www.msn.c...|https://dell.com/...|        0|      male|     young|\n| positive|https://www.salon...|https://samsung.c...|        1|      male|  juvenile|\n| positive|https://www.cnet....|https://Ikea.com/...|        0|      male|    senior|\n| negative|https://www.buzzf...|https://InstantPo...|        0|    female|    senior|\n| negative|https://www.indep...|https://sony.com/...|        0|    female|     young|\n| positive|https://www.bosto...|https://vitamix.c...|        1|    female|    senior|\n| negative|https://www.bosto...|https://Lavazza.c...|        1|    female|     young|\n|  neutral|https://www.mirro...|https://NordicTra...|        1|      male|  juvenile|\n|  neutral|https://www.bbc.com/|https://NordicTra...|        1|    female|  juvenile|\n|  neutral|https://www.bosto...|https://docker.co...|        1|    female|  juvenile|\n|  neutral|https://www.chica...|https://remington...|        1|    female|    senior|\n|  neutral|https://www.sfgat...|http://nemoK.co/b...|        0|      male|  juvenile|\n| positive|https://mashable....|https://samsung.c...|        1|    female|middle-age|\n| positive|https://www.vice....|https://Starbucks...|        0|      male|     young|\n+---------+--------------------+--------------------+---------+----------+----------+\nonly showing top 20 rows\n\n"
     ]
    }
   ],
   "source": [
    "log.show()"
   ]
  },
  {
   "cell_type": "code",
   "execution_count": 0,
   "metadata": {
    "application/vnd.databricks.v1+cell": {
     "cellMetadata": {
      "byteLimit": 2048000,
      "rowLimit": 10000
     },
     "inputWidgets": {},
     "nuid": "0d0d4607-833a-4b70-aa13-ba5af2f692d6",
     "showTitle": false,
     "tableResultSettingsMap": {},
     "title": ""
    }
   },
   "outputs": [
    {
     "output_type": "stream",
     "name": "stdout",
     "output_type": "stream",
     "text": [
      "+--------------------+--------------------+------------------+\n|             product|         product_URL|      product_type|\n+--------------------+--------------------+------------------+\n|     Vitamix blender| https://vitamix....|           blender|\n|       Lenova laptop| https://lenova.c...|          computer|\n|InstantPot pressu...|https://InstantPo...|   pressure cooker|\n|       NemoK blender|http://nemoK.co/b...|           blender|\n|Hamilton Beach bl...|https://HamiltonB...|           blender|\n|      Lavazza Coffee|https://Lavazza.c...|            coffee|\n|    Starbucks Coffee|https://Starbucks...|            coffee|\n|Centrum MultiVita...|https://centrum.c...|           vitamin|\n|NordicTrack tread...|https://NordicTra...|         treadmill|\n|   NordicTrack rower|https://NordicTra...|    rowing machine|\n|Clinique moisturizer|https://clinique....|        face cream|\n|NordicTrack ellip...|https://NordicTra...|elliptical trainer|\n|               Tesla|   https://tesla.com|               car|\n|         Ford  sedan|https://ford.com/...|               car|\n|         Levis Jeans|https://levis.com...|             jeans|\n|           Lee jeans|https://lees.com/...|             jeans|\n|        Cougar jeans|https://cougar.co...|             jeans|\n|        Docker pants|https://docker.co...|             pants|\n|         Coach purse|https://coach.com...|     women's purse|\n|               LG TV|  https://lg.com/tvs|        television|\n+--------------------+--------------------+------------------+\nonly showing top 20 rows\n\n+--------------------------+----------------------------------+------------------+\n|product                   |product_URL                       |product_type      |\n+--------------------------+----------------------------------+------------------+\n|Vitamix blender           |https://vitamix.com/blenders      |blender           |\n|Lenova laptop             |https://lenova.com/laptops        |computer          |\n|InstantPot pressure cooker|https://InstantPot.com/cookers    |pressure cooker   |\n|NemoK blender             |http://nemoK.co/blenders          |blender           |\n|Hamilton Beach blender    |https://HamiltonBeach.com/blenders|blender           |\n|Lavazza Coffee            |https://Lavazza.com/coffee        |coffee            |\n|Starbucks Coffee          |https://Starbucks.com/coffee      |coffee            |\n|Centrum MultiVitamins     |https://centrum.com/vitamins      |vitamin           |\n|NordicTrack treadmill     |https://NordicTrack.com/treadmills|treadmill         |\n|NordicTrack rower         |https://NordicTrack.com/rowers    |rowing machine    |\n|Clinique moisturizer      |https://clinique.com/moisturizers |face cream        |\n|NordicTrack elliptical    |https://NordicTrack.com/elliptical|elliptical trainer|\n|Tesla                     |https://tesla.com                 |car               |\n|Ford  sedan               |https://ford.com/sedans           |car               |\n|Levis Jeans               |https://levis.com/jeans           |jeans             |\n|Lee jeans                 |https://lees.com/jeans            |jeans             |\n|Cougar jeans              |https://cougar.co/jeans           |jeans             |\n|Docker pants              |https://docker.com/pants          |pants             |\n|Coach purse               |https://coach.com/purses          |women's purse     |\n|LG TV                     |https://lg.com/tvs                |television        |\n+--------------------------+----------------------------------+------------------+\nonly showing top 20 rows\n\n"
     ]
    }
   ],
   "source": [
    "product.show()\n",
    "\n",
    "from pyspark.sql.functions import trim, lower\n",
    "\n",
    "product = product.withColumn(\"product_type\", trim(col(\"product_type\")))\n",
    "product = product.withColumn(\"product_URL\", trim(col(\"product_URL\")))\n",
    "product.show(truncate=False)\n"
   ]
  },
  {
   "cell_type": "code",
   "execution_count": 0,
   "metadata": {
    "application/vnd.databricks.v1+cell": {
     "cellMetadata": {
      "byteLimit": 2048000,
      "rowLimit": 10000
     },
     "inputWidgets": {},
     "nuid": "1c1dfec5-54ce-4745-81c5-f79b3a89cd7a",
     "showTitle": false,
     "tableResultSettingsMap": {},
     "title": ""
    }
   },
   "outputs": [
    {
     "output_type": "stream",
     "name": "stdout",
     "output_type": "stream",
     "text": [
      "+------------------+--------------------+\n|           product|            category|\n+------------------+--------------------+\n|           blender| small kitchen ap...|\n|   pressure cooker| small kitchen ap...|\n|          computer| consumer electro...|\n|            coffee|       packaged food|\n|           vitamin|              health|\n|         treadmill|   fitness equipment|\n|        face cream|     beauty products|\n|    rowing machine|   fitness equipment|\n|elliptical trainer|   fitness equipment|\n|          lipstick|     beauty products|\n|     women's purse|         accessories|\n|             shoes|            footwear|\n|               car|      transportation|\n|             jeans|             apparel|\n|        television|consumer electronics|\n|            tablet|consumer electronics|\n|         furniture|  household durables|\n|            washer|large kitchen app...|\n|             dryer|large kitchen app...|\n|      refrigerator|large kitchen app...|\n+------------------+--------------------+\nonly showing top 20 rows\n\n"
     ]
    }
   ],
   "source": [
    "product_cat.show()\n",
    "product_cat = product_cat.withColumn(\"category\", trim(col(\"category\")))\n",
    "product_cat = product_cat.withColumn(\"product\", trim(col(\"product\")))"
   ]
  },
  {
   "cell_type": "markdown",
   "metadata": {
    "application/vnd.databricks.v1+cell": {
     "cellMetadata": {},
     "inputWidgets": {},
     "nuid": "ba33155e-127d-40d8-b71c-8512c7c257d0",
     "showTitle": false,
     "tableResultSettingsMap": {},
     "title": ""
    }
   },
   "source": [
    "For each product, compute all the Publication_URLs containing an ad for that product."
   ]
  },
  {
   "cell_type": "code",
   "execution_count": 0,
   "metadata": {
    "application/vnd.databricks.v1+cell": {
     "cellMetadata": {
      "byteLimit": 2048000,
      "rowLimit": 10000
     },
     "inputWidgets": {},
     "nuid": "055ce63c-5aaf-487c-9887-c2ae495767cc",
     "showTitle": false,
     "tableResultSettingsMap": {},
     "title": ""
    }
   },
   "outputs": [
    {
     "output_type": "stream",
     "name": "stdout",
     "output_type": "stream",
     "text": [
      "+--------------------+--------------------+\n|             product|    Publication_URLs|\n+--------------------+--------------------+\n|       Lenova laptop|[https://www.tele...|\n|        Docker pants|[https://www.bost...|\n|         Coach purse|[https://www.al.c...|\n|    Remington shaver|[https://www.vox....|\n|       Maytag washer|[https://www.chic...|\n|           Ikea sofa|[https://www.cbsn...|\n|         Levis Jeans|[https://www.theg...|\n|          Samsung TV|[https://www.theg...|\n|  covergirl lipstick|[https://www.buzz...|\n|    Covergirl makeup|[https://www.thea...|\n|  Haier refrigerator|[https://www.foxn...|\n|Centrum MultiVita...|[https://mashable...|\n|Hamilton Beach bl...|                  []|\n|          Apple iPad|[https://www.tele...|\n|  Soundwave speakers|[https://www.nyda...|\n|           LG washer|[https://www.npr....|\n|      Samsung washer|[https://www.dail...|\n|         Ford  sedan|[https://www.foxn...|\n| Maytag refrigerator|[https://www.huff...|\n|       Samsung dryer|[https://www.busi...|\n+--------------------+--------------------+\nonly showing top 20 rows\n\n"
     ]
    }
   ],
   "source": [
    "from pyspark.sql.functions import col, collect_list\n",
    "\n",
    "joindf_1 = log.join(product, on = log.product_URL == product.product_URL, how = \"right\")\n",
    "result_1 = joindf_1.groupBy(\"product\").agg(collect_list(\"publication_URL\").alias(\"Publication_URLs\"))\n",
    "result_1.show()"
   ]
  },
  {
   "cell_type": "markdown",
   "metadata": {
    "application/vnd.databricks.v1+cell": {
     "cellMetadata": {},
     "inputWidgets": {},
     "nuid": "f500c7b0-9b7e-4596-9453-400b78a2ae5c",
     "showTitle": false,
     "tableResultSettingsMap": {},
     "title": ""
    }
   },
   "source": [
    "For each product type, compute all the Publication_URLs containing an ad for that product type."
   ]
  },
  {
   "cell_type": "code",
   "execution_count": 0,
   "metadata": {
    "application/vnd.databricks.v1+cell": {
     "cellMetadata": {
      "byteLimit": 2048000,
      "rowLimit": 10000
     },
     "inputWidgets": {},
     "nuid": "0638aec7-bc4c-422b-889a-c5bc962ae6ab",
     "showTitle": false,
     "tableResultSettingsMap": {},
     "title": ""
    }
   },
   "outputs": [
    {
     "output_type": "stream",
     "name": "stdout",
     "output_type": "stream",
     "text": [
      "+------------------+-----------------------------+\n|      product_type|collect_list(publication_URL)|\n+------------------+-----------------------------+\n|        television|         [https://www.foxn...|\n|      refrigerator|         [https://www.huff...|\n|          lipstick|         [https://www.enga...|\n|        face cream|         [https://www.usne...|\n|           vitamin|         [https://mashable...|\n|            tablet|         [https://www.tele...|\n|    rowing machine|         [https://abcnews....|\n|   pressure cooker|         [https://www.theg...|\n|            shaver|         [https://www.vox....|\n|            washer|         [https://www.chic...|\n|            makeup|         [https://www.thea...|\n|     women's purse|         [https://www.al.c...|\n|             jeans|         [https://www.theg...|\n|         furniture|         [https://www.cbsn...|\n|             dryer|         [https://www.nyda...|\n|elliptical trainer|                           []|\n|          computer|         [https://www.tele...|\n|            coffee|         [https://www.thed...|\n|          speakers|         [https://www.nyda...|\n|               car|         [https://www.lati...|\n+------------------+-----------------------------+\nonly showing top 20 rows\n\n"
     ]
    }
   ],
   "source": [
    "result_2 = joindf_1.groupBy(\"product_type\").agg(collect_list(joindf_1.publication_URL))\n",
    "result_2.show()"
   ]
  },
  {
   "cell_type": "markdown",
   "metadata": {
    "application/vnd.databricks.v1+cell": {
     "cellMetadata": {},
     "inputWidgets": {},
     "nuid": "010d13e4-6c69-42ee-9a79-43387a4386b0",
     "showTitle": false,
     "tableResultSettingsMap": {},
     "title": ""
    }
   },
   "source": [
    "For each product, compute the click rate for it. Click rate is the number of times a display of an ad was clicked on (by any user) divided by the number of times it was displayed (to any user). Note the click rate is not specific to each user.\n",
    "- For each product, compute the click rate for each sentiment type"
   ]
  },
  {
   "cell_type": "code",
   "execution_count": 0,
   "metadata": {
    "application/vnd.databricks.v1+cell": {
     "cellMetadata": {
      "byteLimit": 2048000,
      "rowLimit": 10000
     },
     "inputWidgets": {},
     "nuid": "96a77fa4-5ffe-49fd-ac62-8ac6cec1b4c3",
     "showTitle": false,
     "tableResultSettingsMap": {},
     "title": ""
    }
   },
   "outputs": [
    {
     "output_type": "stream",
     "name": "stdout",
     "output_type": "stream",
     "text": [
      "+--------------------------+-------------------+\n|product                   |click_rate         |\n+--------------------------+-------------------+\n|Apple computer            |0.7920792079207921 |\n|Apple iPad                |0.5037878787878788 |\n|Apple laptop              |0.5645161290322581 |\n|BasilBasel perfume        |0.6493506493506493 |\n|Broyhill recliner         |0.5392156862745098 |\n|Centrum MultiVitamins     |0.6265560165975104 |\n|Clinique moisturizer      |0.8055555555555556 |\n|Coach purse               |0.388646288209607  |\n|Cougar jeans              |0.2600732600732601 |\n|Covergirl makeup          |0.2524752475247525 |\n|Dell computer             |0.6515837104072398 |\n|Dell laptop               |0.3151862464183381 |\n|Docker pants              |0.6838709677419355 |\n|Ford  sedan               |0.13656387665198239|\n|Gillette shaver           |0.7133757961783439 |\n|Giorgio perfume           |0.7990654205607477 |\n|Givenchy perfume          |0.4597156398104265 |\n|Guess perfume             |0.4069767441860465 |\n|Haier refrigerator        |0.20754716981132076|\n|Hamilton Beach blender    |null               |\n|Ikea sofa                 |0.5730337078651685 |\n|InstantPot pressure cooker|0.5                |\n|Jaguar perfume            |0.4732824427480916 |\n|Kaai handbags             |0.66               |\n|LG TV                     |0.4807692307692308 |\n|LG dryer                  |0.6304347826086957 |\n|LG washer                 |0.4953271028037383 |\n|Lavazza Coffee            |0.5641025641025641 |\n|Lee jeans                 |0.4669811320754717 |\n|Lenova laptop             |0.6372549019607843 |\n|Levis Jeans               |0.668141592920354  |\n|Maybelline lipstick       |0.5609756097560976 |\n|Maytag dryer              |0.3448275862068966 |\n|Maytag refrigerator       |0.39655172413793105|\n|Maytag washer             |0.5069444444444444 |\n|NemoK blender             |0.569672131147541  |\n|NordicTrack elliptical    |null               |\n|NordicTrack rower         |0.22340425531914893|\n|NordicTrack treadmill     |0.4897119341563786 |\n|Remington shaver          |0.34965034965034963|\n|Samsung TV                |0.7295597484276729 |\n|Samsung dryer             |0.4358974358974359 |\n|Samsung washer            |0.553030303030303  |\n|Sony TV                   |0.39285714285714285|\n|Soundwave speakers        |0.5458937198067633 |\n|Starbucks Coffee          |0.275974025974026  |\n|Tesla                     |0.5916666666666667 |\n|Vitamix blender           |0.5073170731707317 |\n|bose speakers             |0.5255102040816326 |\n|covergirl lipstick        |0.8175182481751825 |\n+--------------------------+-------------------+\n\n"
     ]
    }
   ],
   "source": [
    "from pyspark.sql.functions import sum, count, col\n",
    "\n",
    "joindf_2 = log.join(product, on = log.product_URL == product.product_URL, how = 'right')\n",
    "result_3 = joindf_2.groupBy(\"product\").agg((sum(col(\"got_click\"))/count(col(\"got_click\"))).alias(\"click_rate\")).orderBy(\"product\")\n",
    "result_3.show(truncate=False, n=result_3.count())"
   ]
  },
  {
   "cell_type": "code",
   "execution_count": 0,
   "metadata": {
    "application/vnd.databricks.v1+cell": {
     "cellMetadata": {
      "byteLimit": 2048000,
      "rowLimit": 10000
     },
     "inputWidgets": {},
     "nuid": "76e14fe1-f693-4c37-9ae5-4e792babd8ae",
     "showTitle": false,
     "tableResultSettingsMap": {},
     "title": ""
    }
   },
   "outputs": [
    {
     "output_type": "stream",
     "name": "stdout",
     "output_type": "stream",
     "text": [
      "+---------------------+---------+-------------------+\n|product              |sentiment|click_rate         |\n+---------------------+---------+-------------------+\n|Apple computer       |neutral  |0.9230769230769231 |\n|Apple computer       |positive |0.7647058823529411 |\n|Apple computer       |negative |0.6956521739130435 |\n|Apple iPad           |negative |0.391304347826087  |\n|Apple iPad           |neutral  |0.627906976744186  |\n|Apple iPad           |positive |0.5                |\n|Apple laptop         |neutral  |0.7317073170731707 |\n|Apple laptop         |negative |0.15384615384615385|\n|Apple laptop         |positive |0.7727272727272727 |\n|BasilBasel perfume   |neutral  |0.864406779661017  |\n|BasilBasel perfume   |positive |0.36666666666666664|\n|BasilBasel perfume   |negative |0.7714285714285715 |\n|Broyhill recliner    |neutral  |0.5625             |\n|Broyhill recliner    |positive |0.24285714285714285|\n|Broyhill recliner    |negative |0.8142857142857143 |\n|Centrum MultiVitamins|neutral  |0.8148148148148148 |\n|Centrum MultiVitamins|negative |0.8352941176470589 |\n|Centrum MultiVitamins|positive |0.18666666666666668|\n|Clinique moisturizer |positive |0.5833333333333334 |\n|Clinique moisturizer |negative |0.9027777777777778 |\n+---------------------+---------+-------------------+\nonly showing top 20 rows\n\n"
     ]
    }
   ],
   "source": [
    "result_4 = joindf_2.groupBy(\"product\",\"sentiment\").agg((sum(col(\"got_click\"))/count(col(\"got_click\"))).alias(\"click_rate\")).orderBy(\"product\")\n",
    "result_4.show(truncate=False)"
   ]
  },
  {
   "cell_type": "markdown",
   "metadata": {
    "application/vnd.databricks.v1+cell": {
     "cellMetadata": {
      "byteLimit": 2048000,
      "rowLimit": 10000
     },
     "inputWidgets": {},
     "nuid": "82761473-759f-46fe-8f63-43dc94c332eb",
     "showTitle": false,
     "tableResultSettingsMap": {},
     "title": ""
    },
    "jupyter": {
     "outputs_hidden": true
    }
   },
   "source": [
    "For each product type, compute the click rate for it.\n",
    "- For each product type, compute the click rate for each sentiment type"
   ]
  },
  {
   "cell_type": "code",
   "execution_count": 0,
   "metadata": {
    "application/vnd.databricks.v1+cell": {
     "cellMetadata": {
      "byteLimit": 2048000,
      "rowLimit": 10000
     },
     "inputWidgets": {},
     "nuid": "d7e869bf-fdc5-450c-b114-22704a824126",
     "showTitle": false,
     "tableResultSettingsMap": {},
     "title": ""
    }
   },
   "outputs": [
    {
     "output_type": "stream",
     "name": "stdout",
     "output_type": "stream",
     "text": [
      "+------------------+-------------------+\n|      product_type|         click_rate|\n+------------------+-------------------+\n|           blender| 0.5412026726057907|\n|               car|0.37044967880085655|\n|            coffee| 0.3552941176470588|\n|          computer| 0.4996549344375431|\n|             dryer|0.45271629778672035|\n|elliptical trainer|               null|\n|        face cream| 0.8055555555555556|\n|         furniture| 0.5549738219895288|\n|             jeans|0.45147679324894513|\n|          lipstick| 0.6637426900584795|\n|            makeup| 0.2524752475247525|\n|             pants| 0.6838709677419355|\n|           perfume| 0.5668934240362812|\n|   pressure cooker|                0.5|\n|      refrigerator| 0.2872727272727273|\n|    rowing machine|0.22340425531914893|\n|            shaver|               0.54|\n|          speakers| 0.5359801488833746|\n|            tablet| 0.5037878787878788|\n|        television| 0.5320910973084886|\n|         treadmill| 0.4897119341563786|\n|           vitamin| 0.6265560165975104|\n|            washer| 0.5195822454308094|\n|     women's purse| 0.5151515151515151|\n+------------------+-------------------+\n\n"
     ]
    }
   ],
   "source": [
    "result_5 = joindf_2.groupBy(\"product_type\").agg((sum(col(\"got_click\"))/count(col(\"got_click\"))).alias(\"click_rate\")).orderBy(\"product_type\")\n",
    "result_5.show(n=result_5.count())"
   ]
  },
  {
   "cell_type": "code",
   "execution_count": 0,
   "metadata": {
    "application/vnd.databricks.v1+cell": {
     "cellMetadata": {
      "byteLimit": 2048000,
      "rowLimit": 10000
     },
     "inputWidgets": {},
     "nuid": "62e3916b-da79-44ca-a84a-0bfa7cfe0b08",
     "showTitle": false,
     "tableResultSettingsMap": {},
     "title": ""
    }
   },
   "outputs": [
    {
     "output_type": "stream",
     "name": "stdout",
     "output_type": "stream",
     "text": [
      "+------------------+---------+-------------------+\n|      product_type|sentiment|         click_rate|\n+------------------+---------+-------------------+\n|           blender|  neutral|0.33112582781456956|\n|           blender| positive|0.47580645161290325|\n|           blender| negative| 0.7701149425287356|\n|           blender|     null|               null|\n|               car| positive| 0.1566265060240964|\n|               car|  neutral| 0.5816993464052288|\n|               car| negative| 0.3918918918918919|\n|            coffee| negative| 0.4652777777777778|\n|            coffee| positive|0.24113475177304963|\n|            coffee|  neutral|0.35714285714285715|\n|          computer|  neutral| 0.5161290322580645|\n|          computer| positive| 0.5705128205128205|\n|          computer| negative| 0.4144329896907217|\n|             dryer| negative| 0.3236994219653179|\n|             dryer|  neutral| 0.7345679012345679|\n|             dryer| positive|0.30864197530864196|\n|elliptical trainer|     null|               null|\n|        face cream| negative| 0.9027777777777778|\n|        face cream|  neutral| 0.9305555555555556|\n|        face cream| positive| 0.5833333333333334|\n|         furniture| positive|0.27906976744186046|\n|         furniture|  neutral| 0.5789473684210527|\n|         furniture| negative|              0.825|\n|             jeans| positive| 0.5098814229249012|\n|             jeans| negative| 0.2648221343873518|\n|             jeans|  neutral| 0.6097560975609756|\n|          lipstick|  neutral| 0.5038759689922481|\n|          lipstick| negative| 0.6923076923076923|\n|          lipstick| positive| 0.8256880733944955|\n|            makeup| negative|0.11267605633802817|\n|            makeup| positive|0.24528301886792453|\n|            makeup|  neutral|0.38461538461538464|\n|             pants|  neutral|  0.813953488372093|\n|             pants| negative|  0.835820895522388|\n|             pants| positive| 0.3333333333333333|\n|           perfume|  neutral| 0.6105610561056105|\n|           perfume| positive| 0.5326460481099656|\n|           perfume| negative| 0.5555555555555556|\n|   pressure cooker| negative|                0.0|\n|   pressure cooker| positive| 0.7142857142857143|\n|   pressure cooker|  neutral|  0.864406779661017|\n|      refrigerator| negative|0.12222222222222222|\n|      refrigerator| positive| 0.3473684210526316|\n|      refrigerator|  neutral| 0.3888888888888889|\n|    rowing machine| positive| 0.2972972972972973|\n|    rowing machine| negative|                0.2|\n|    rowing machine|  neutral|0.14285714285714285|\n|            shaver| negative|              0.528|\n|            shaver| positive| 0.4418604651162791|\n|            shaver|  neutral|  0.651685393258427|\n|          speakers|  neutral| 0.7058823529411765|\n|          speakers| positive| 0.5434782608695652|\n|          speakers| negative| 0.3488372093023256|\n|            tablet| positive|                0.5|\n|            tablet| negative|  0.391304347826087|\n|            tablet|  neutral|  0.627906976744186|\n|        television|  neutral|                0.7|\n|        television| positive|  0.592814371257485|\n|        television| negative| 0.3192771084337349|\n|         treadmill|  neutral| 0.5842696629213483|\n|         treadmill| negative|0.31645569620253167|\n|         treadmill| positive|               0.56|\n|           vitamin| negative| 0.8352941176470589|\n|           vitamin| positive|0.18666666666666668|\n|           vitamin|  neutral| 0.8148148148148148|\n|            washer| negative|  0.376984126984127|\n|            washer|  neutral| 0.5211864406779662|\n|            washer| positive| 0.6474820143884892|\n|     women's purse| positive|0.45751633986928103|\n|     women's purse| negative|0.38636363636363635|\n|     women's purse|  neutral| 0.6944444444444444|\n+------------------+---------+-------------------+\n\n"
     ]
    }
   ],
   "source": [
    "result_6 = joindf_2.groupBy(\"product_type\",\"sentiment\").agg((sum(col(\"got_click\"))/count(col(\"got_click\"))).alias(\"click_rate\")).orderBy(\"product_type\")\n",
    "result_6.show(n=result_6.count())"
   ]
  },
  {
   "cell_type": "markdown",
   "metadata": {
    "application/vnd.databricks.v1+cell": {
     "cellMetadata": {},
     "inputWidgets": {},
     "nuid": "5e3fb473-037c-4882-8ae0-f8874ac4e5b7",
     "showTitle": false,
     "tableResultSettingsMap": {},
     "title": ""
    }
   },
   "source": [
    "For each category, compute the click rate for it.\n",
    "- Similar to above, for each category compute the click rate for each sentiment type"
   ]
  },
  {
   "cell_type": "code",
   "execution_count": 0,
   "metadata": {
    "application/vnd.databricks.v1+cell": {
     "cellMetadata": {
      "byteLimit": 2048000,
      "rowLimit": 10000
     },
     "inputWidgets": {},
     "nuid": "1349af77-14ff-49fe-911e-1aa8912b868a",
     "showTitle": false,
     "tableResultSettingsMap": {},
     "title": ""
    }
   },
   "outputs": [
    {
     "output_type": "stream",
     "name": "stdout",
     "output_type": "stream",
     "text": [
      "+------------------------+-------------------+\n|category                |click_rate         |\n+------------------------+-------------------+\n|accessories             |0.5151515151515151 |\n|apparel                 |0.4930715935334873 |\n|beauty products         |0.5797807551766139 |\n|consumer electronics    |0.514660227664712  |\n|fitness equipment       |0.37354988399071926|\n|footwear                |null               |\n|health                  |0.6265560165975104 |\n|household durables      |0.5549738219895288 |\n|large kitchen appliances|0.4564369310793238 |\n|packaged food           |0.3552941176470588 |\n|small kitchen appliances|0.5288611544461779 |\n|transportation          |0.37044967880085655|\n+------------------------+-------------------+\n\n+--------------------+---------+-------------------+\n|category            |sentiment|click_rate         |\n+--------------------+---------+-------------------+\n|accessories         |positive |0.45751633986928103|\n|accessories         |neutral  |0.6944444444444444 |\n|accessories         |negative |0.38636363636363635|\n|apparel             |positive |0.48322147651006714|\n|apparel             |neutral  |0.6451612903225806 |\n|apparel             |negative |0.384375           |\n|beauty products     |positive |0.5714285714285714 |\n|beauty products     |negative |0.5700934579439252 |\n|beauty products     |neutral  |0.5962199312714777 |\n|consumer electronics|neutral  |0.5945663531870429 |\n|consumer electronics|negative |0.40220661985957873|\n|consumer electronics|positive |0.5523809523809524 |\n|fitness equipment   |neutral  |0.427536231884058  |\n|fitness equipment   |negative |0.2638888888888889 |\n|fitness equipment   |null     |null               |\n|fitness equipment   |positive |0.42953020134228187|\n|footwear            |null     |null               |\n|health              |negative |0.8352941176470589 |\n|health              |positive |0.18666666666666668|\n|health              |neutral  |0.8148148148148148 |\n+--------------------+---------+-------------------+\nonly showing top 20 rows\n\n"
     ]
    }
   ],
   "source": [
    "joindf_3 = joindf_2.join(product_cat, on = joindf_2.product_type == product_cat.product, how = \"right\")\n",
    "#joindf_3.show(truncate=False)\n",
    "#joindf_2.show(truncate=False)\n",
    "\n",
    "result_7 = joindf_3.groupBy(\"category\").agg((sum(col(\"got_click\"))/count(col(\"got_click\"))).alias(\"click_rate\")).orderBy(\"category\")\n",
    "result_7.show(truncate=False)\n",
    "\n",
    "result_8 = joindf_3.groupBy(\"category\",\"sentiment\").agg((sum(col(\"got_click\"))/count(col(\"got_click\"))).alias(\"click_rate\")).orderBy(\"category\")\n",
    "result_8.show(truncate=False)\n"
   ]
  },
  {
   "cell_type": "markdown",
   "metadata": {
    "application/vnd.databricks.v1+cell": {
     "cellMetadata": {},
     "inputWidgets": {},
     "nuid": "e7abb4aa-5617-4400-b8af-1dfea0e1c687",
     "showTitle": false,
     "tableResultSettingsMap": {},
     "title": ""
    }
   },
   "source": [
    "Choose a product randomly; determine if there are any 'significant' differences in the click rate between positive and negative sentiment type of the ad context for that product type given the gender of the viewer.\n",
    "- You can use any form of statistical testing to calculate \"significance\" that you like. Eg. you assume a binomial distribution for click rate and use a z-test. Compute these figures for all 3 genders."
   ]
  },
  {
   "cell_type": "code",
   "execution_count": 0,
   "metadata": {
    "application/vnd.databricks.v1+cell": {
     "cellMetadata": {
      "byteLimit": 2048000,
      "rowLimit": 10000
     },
     "inputWidgets": {},
     "nuid": "f57dd75e-57d1-4f8c-bf1a-dabc058343b0",
     "showTitle": false,
     "tableResultSettingsMap": {},
     "title": ""
    }
   },
   "outputs": [
    {
     "output_type": "stream",
     "name": "stdout",
     "output_type": "stream",
     "text": [
      "Randomly selected product_type: lipstick\n+---------+-------------------------------+------------------------------+---------+------+----------+-------------------+------------------------------+------------+\n|sentiment|publication_URL                |product_URL                   |got_click|gender|age_group |product            |product_URL                   |product_type|\n+---------+-------------------------------+------------------------------+---------+------+----------+-------------------+------------------------------+------------+\n|neutral  |https://www.engadget.com/      |http://maybelline.com/lipstick|0        |female|senior    |Maybelline lipstick|http://maybelline.com/lipstick|lipstick    |\n|positive |https://www.vice.com/en_us     |http://maybelline.com/lipstick|1        |male  |young     |Maybelline lipstick|http://maybelline.com/lipstick|lipstick    |\n|neutral  |https://www.dallasnews.com/    |http://maybelline.com/lipstick|0        |male  |middle-age|Maybelline lipstick|http://maybelline.com/lipstick|lipstick    |\n|neutral  |https://www.telegraph.co.uk/   |http://maybelline.com/lipstick|1        |female|senior    |Maybelline lipstick|http://maybelline.com/lipstick|lipstick    |\n|neutral  |https://www.buzzfeed.com/      |http://maybelline.com/lipstick|1        |male  |young     |Maybelline lipstick|http://maybelline.com/lipstick|lipstick    |\n|negative |https://www.vice.com/en_us     |http://maybelline.com/lipstick|1        |male  |middle-age|Maybelline lipstick|http://maybelline.com/lipstick|lipstick    |\n|negative |https://www.independent.co.uk/ |http://maybelline.com/lipstick|1        |male  |young     |Maybelline lipstick|http://maybelline.com/lipstick|lipstick    |\n|neutral  |https://www.buzzfeed.com/      |http://maybelline.com/lipstick|0        |male  |juvenile  |Maybelline lipstick|http://maybelline.com/lipstick|lipstick    |\n|positive |https://www.huffingtonpost.com/|http://maybelline.com/lipstick|1        |female|middle-age|Maybelline lipstick|http://maybelline.com/lipstick|lipstick    |\n|negative |https://www.msn.com/en-us/news |http://maybelline.com/lipstick|1        |male  |juvenile  |Maybelline lipstick|http://maybelline.com/lipstick|lipstick    |\n|neutral  |https://www.vice.com/en_us     |http://maybelline.com/lipstick|0        |female|juvenile  |Maybelline lipstick|http://maybelline.com/lipstick|lipstick    |\n|positive |https://www.engadget.com/      |http://maybelline.com/lipstick|0        |male  |middle-age|Maybelline lipstick|http://maybelline.com/lipstick|lipstick    |\n|neutral  |https://www.telegraph.co.uk/   |http://maybelline.com/lipstick|0        |female|middle-age|Maybelline lipstick|http://maybelline.com/lipstick|lipstick    |\n|negative |https://www.slate.com/         |http://maybelline.com/lipstick|1        |male  |middle-age|Maybelline lipstick|http://maybelline.com/lipstick|lipstick    |\n|neutral  |https://www.nj.com             |http://maybelline.com/lipstick|0        |female|middle-age|Maybelline lipstick|http://maybelline.com/lipstick|lipstick    |\n|neutral  |https://www.huffingtonpost.com/|http://maybelline.com/lipstick|0        |female|young     |Maybelline lipstick|http://maybelline.com/lipstick|lipstick    |\n|negative |https://www.vice.com/en_us     |http://maybelline.com/lipstick|1        |female|middle-age|Maybelline lipstick|http://maybelline.com/lipstick|lipstick    |\n|positive |https://www.theatlantic.com/   |http://maybelline.com/lipstick|0        |female|juvenile  |Maybelline lipstick|http://maybelline.com/lipstick|lipstick    |\n|neutral  |https://www.telegraph.co.uk/   |http://maybelline.com/lipstick|0        |female|young     |Maybelline lipstick|http://maybelline.com/lipstick|lipstick    |\n|positive |https://www.slate.com/         |http://maybelline.com/lipstick|0        |male  |middle-age|Maybelline lipstick|http://maybelline.com/lipstick|lipstick    |\n+---------+-------------------------------+------------------------------+---------+------+----------+-------------------+------------------------------+------------+\nonly showing top 20 rows\n\n+---------+------+------------+-----------+------------------+\n|sentiment|gender|total_clicks|total_views|click_rate        |\n+---------+------+------------+-----------+------------------+\n|neutral  |female|33          |67         |0.4925373134328358|\n|positive |male  |52          |60         |0.8666666666666667|\n|negative |female|35          |53         |0.660377358490566 |\n|negative |male  |37          |51         |0.7254901960784313|\n|neutral  |male  |32          |62         |0.5161290322580645|\n|positive |female|38          |49         |0.7755102040816326|\n+---------+------+------------+-----------+------------------+\n\nAnalysis for Product Type: lipstick\n\nGender: male\nZ-statistic: 1.8594, P-value: 0.0630\nSignificant Difference: No\n\nGender: female\nZ-statistic: 1.2879, P-value: 0.1978\nSignificant Difference: No\n\nNot enough data for gender: non-binary\n"
     ]
    }
   ],
   "source": [
    "import random\n",
    "from pyspark.sql.functions import col, sum, count\n",
    "\n",
    "# Select a random product_type\n",
    "random_product = joindf_2.select(\"product_type\").distinct().collect()\n",
    "selected_product = random.choice(random_product)[\"product_type\"]\n",
    "\n",
    "# Print the selected product\n",
    "print(f\"Randomly selected product_type: {selected_product}\")\n",
    "\n",
    "# Filter data for the selected product_type\n",
    "filtered_data = joindf_2.filter(col(\"product_type\") == selected_product)\n",
    "filtered_data.show(truncate=False)\n",
    "\n",
    "# Group by sentiment and gender to calculate clicks and views\n",
    "click_rate_data = filtered_data.groupBy(\"sentiment\", \"gender\").agg(\n",
    "    sum(col(\"got_click\")).alias(\"total_clicks\"),\n",
    "    count(col(\"got_click\")).alias(\"total_views\")\n",
    ").withColumn(\"click_rate\", col(\"total_clicks\") / col(\"total_views\"))\n",
    "\n",
    "click_rate_data.show(truncate=False)\n",
    "\n",
    "from scipy.stats import norm\n",
    "import math\n",
    "\n",
    "# Collect the data into a Pandas DataFrame\n",
    "click_rate_df = click_rate_data.toPandas()\n",
    "\n",
    "# Filter data for positive and negative sentiment\n",
    "positive = click_rate_df[click_rate_df[\"sentiment\"] == \"positive\"]\n",
    "negative = click_rate_df[click_rate_df[\"sentiment\"] == \"negative\"]\n",
    "\n",
    "# Perform Z-test for each gender\n",
    "print(f\"Analysis for Product Type: {selected_product}\\n\")\n",
    "for gender in [\"male\", \"female\", \"non-binary\"]:\n",
    "    pos_data = positive[positive[\"gender\"] == gender]\n",
    "    neg_data = negative[negative[\"gender\"] == gender]\n",
    "    \n",
    "    if len(pos_data) > 0 and len(neg_data) > 0:\n",
    "        # Extract values\n",
    "        p1 = pos_data[\"click_rate\"].values[0]\n",
    "        p2 = neg_data[\"click_rate\"].values[0]\n",
    "        n1 = pos_data[\"total_views\"].values[0]\n",
    "        n2 = neg_data[\"total_views\"].values[0]\n",
    "        \n",
    "        # Combined click rate\n",
    "        p_combined = (p1 * n1 + p2 * n2) / (n1 + n2)\n",
    "        \n",
    "        # Z-test formula\n",
    "        z = (p1 - p2) / math.sqrt(p_combined * (1 - p_combined) * (1/n1 + 1/n2))\n",
    "        p_value = 2 * (1 - norm.cdf(abs(z)))  # Two-tailed test\n",
    "        \n",
    "        print(f\"Gender: {gender}\")\n",
    "        print(f\"Z-statistic: {z:.4f}, P-value: {p_value:.4f}\")\n",
    "        print(f\"Significant Difference: {'Yes' if p_value < 0.05 else 'No'}\\n\")\n",
    "    else:\n",
    "        print(f\"Not enough data for gender: {gender}\")\n"
   ]
  }
 ],
 "metadata": {
  "application/vnd.databricks.v1+notebook": {
   "dashboards": [],
   "environmentMetadata": null,
   "language": "python",
   "notebookMetadata": {
    "pythonIndentUnit": 4
   },
   "notebookName": "Spark Project",
   "widgets": {}
  }
 },
 "nbformat": 4,
 "nbformat_minor": 0
}
