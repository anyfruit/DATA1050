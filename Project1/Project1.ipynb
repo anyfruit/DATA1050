{
 "cells": [
  {
   "cell_type": "code",
   "execution_count": 176,
   "id": "53b2a5c5-0653-4ede-93d1-c80c3339aaad",
   "metadata": {},
   "outputs": [
    {
     "name": "stdout",
     "output_type": "stream",
     "text": [
      "<mysql.connector.connection_cext.CMySQLConnection object at 0x169470b00>\n",
      "CONNECTION SUCCESSFUL\n"
     ]
    }
   ],
   "source": [
    "import mysql.connector\n",
    " \n",
    "mydb = mysql.connector.connect(\n",
    "  host=\"localhost\",\n",
    "  user=\"root\",\n",
    "  password=\"Yankejing020711\"   #REPLACE THIS WITH THE PASSWORD YOU SET\n",
    ")\n",
    " \n",
    "print(mydb)\n",
    " \n",
    "if mydb.is_connected():\n",
    "    print(\"CONNECTION SUCCESSFUL\")\n"
   ]
  },
  {
   "cell_type": "code",
   "execution_count": 177,
   "id": "deaba955-a1e8-4e32-a64d-683c16b61de4",
   "metadata": {},
   "outputs": [],
   "source": [
    "#create a database\n",
    "#mycursor = mydb.cursor()\n",
    "\n",
    "#mycursor.execute(\"CREATE DATABASE project1\")"
   ]
  },
  {
   "cell_type": "code",
   "execution_count": 178,
   "id": "c58a4fd2-6196-45f9-8a56-5cfe56712737",
   "metadata": {},
   "outputs": [],
   "source": [
    "mydb = mysql.connector.connect(\n",
    "  host=\"localhost\",\n",
    "  user=\"root\",\n",
    "  password=\"Yankejing020711\", #REPLACE THIS WITH YOUR PASSWORD \n",
    "  database = \"project1\" #connecting to testDatabase\n",
    ")\n",
    "\n",
    "#redo table\n",
    "mycursor = mydb.cursor()"
   ]
  },
  {
   "cell_type": "code",
   "execution_count": 212,
   "id": "4f49d0ca-d0b8-4b0f-8a74-e9cbb90f4e3d",
   "metadata": {},
   "outputs": [],
   "source": [
    "#redo table\n",
    "mycursor = mydb.cursor()\n",
    "\n",
    "mycursor.execute(\"DROP TABLE IF EXISTS patients, physicians, pharmacies, drugs, prescriptions, adverse_interactions, alerts, pharmacy_fills, companies, contracts;\")"
   ]
  },
  {
   "cell_type": "code",
   "execution_count": 214,
   "id": "3dd07fcd-4eb3-48f8-a094-ccf192becd3b",
   "metadata": {},
   "outputs": [],
   "source": [
    "mycursor = mydb.cursor()\n",
    "\n",
    "mycursor.execute(\n",
    "    '''\n",
    "    CREATE TABLE project1.physicians(\n",
    "        ssn  varchar(11) NOT NULL,\n",
    "        name varchar(128) NOT NULL,\n",
    "        primary_specialty  varchar(256) NOT NULL,\n",
    "        experience_years  decimal(5,2) NOT NULL,\n",
    "        CHECK (experience_years >= 0),\n",
    "        PRIMARY KEY (ssn)\n",
    "    )\n",
    "    '''\n",
    ")"
   ]
  },
  {
   "cell_type": "code",
   "execution_count": 215,
   "id": "b95cb497-5a2f-471d-aefc-b02092bf44f0",
   "metadata": {},
   "outputs": [],
   "source": [
    "mycursor = mydb.cursor()\n",
    "\n",
    "mycursor.execute(\n",
    "    '''\n",
    "    CREATE TABLE project1.pharmacies(\n",
    "        id  varchar(128) NOT NULL,\n",
    "        name  varchar(256) NOT NULL,\n",
    "        address varchar(256) NOT NULL,\n",
    "        phone  varchar(20) NOT NULL,\n",
    "        PRIMARY KEY (id)\n",
    "    )\n",
    "    '''\n",
    ")"
   ]
  },
  {
   "cell_type": "code",
   "execution_count": 216,
   "id": "dbfd16fd-7205-43e6-83f5-9fc95a70742a",
   "metadata": {},
   "outputs": [],
   "source": [
    "mycursor = mydb.cursor()\n",
    "\n",
    "mycursor.execute(\n",
    "    '''\n",
    "    CREATE TABLE project1.patients(\n",
    "        ssn  varchar(11) NOT NULL,\n",
    "        name  varchar(128) NOT NULL,\n",
    "        address  varchar(256) NOT NULL,\n",
    "        birth_date  date NOT NULL,\n",
    "        physician_id  varchar(11) NOT NULL,\n",
    "        PRIMARY KEY (ssn),\n",
    "        FOREIGN KEY (physician_id) REFERENCES physicians (ssn)\n",
    "    )\n",
    "    '''\n",
    ")"
   ]
  },
  {
   "cell_type": "code",
   "execution_count": 217,
   "id": "36e19c76-0685-498d-a43a-9359e7c7a2a9",
   "metadata": {},
   "outputs": [],
   "source": [
    "mycursor = mydb.cursor()\n",
    "\n",
    "mycursor.execute(\n",
    "    '''\n",
    "    CREATE TABLE project1.drugs(\n",
    "        id  varchar(20),\n",
    "        name  varchar(256),\n",
    "        PRIMARY KEY (name)\n",
    "    )\n",
    "    '''\n",
    ")"
   ]
  },
  {
   "cell_type": "code",
   "execution_count": 218,
   "id": "5af8e0d5-545c-4fef-bd05-3af7f9cc9fee",
   "metadata": {},
   "outputs": [],
   "source": [
    "mycursor = mydb.cursor()\n",
    "\n",
    "mycursor.execute(\n",
    "    '''\n",
    "    CREATE TABLE project1.prescriptions(\n",
    "        id  varchar(20),\n",
    "        patient_id  varchar(11),\n",
    "        physician_id  varchar(11),\n",
    "        drug_name  varchar(256),\n",
    "        date  date,\n",
    "        quantity  int,\n",
    "        PRIMARY KEY (id),\n",
    "        FOREIGN KEY (patient_id) REFERENCES patients (ssn),\n",
    "        FOREIGN KEY (physician_id) REFERENCES physicians (ssn),\n",
    "        FOREIGN KEY (drug_name) REFERENCES drugs (name)\n",
    "    )\n",
    "    '''\n",
    ")"
   ]
  },
  {
   "cell_type": "code",
   "execution_count": 219,
   "id": "d69c7119-3db8-48ef-b6a6-74af39331360",
   "metadata": {},
   "outputs": [],
   "source": [
    "mycursor.execute(\"CREATE INDEX idx_patient_drug ON prescriptions(patient_id, drug_name)\")"
   ]
  },
  {
   "cell_type": "code",
   "execution_count": 220,
   "id": "fc078bf9-feae-462b-9302-17e00433b939",
   "metadata": {},
   "outputs": [],
   "source": [
    "mycursor = mydb.cursor()\n",
    "\n",
    "mycursor.execute(\n",
    "    '''\n",
    "    CREATE TABLE project1.adverse_interactions(\n",
    "        drug_name  varchar(256),\n",
    "        drug_name_2  varchar(256),\n",
    "        PRIMARY KEY (drug_name, drug_name_2),\n",
    "        FOREIGN KEY (drug_name) REFERENCES drugs (name),\n",
    "        FOREIGN KEY (drug_name_2) REFERENCES drugs (name)\n",
    "    )\n",
    "    '''\n",
    ")"
   ]
  },
  {
   "cell_type": "code",
   "execution_count": 221,
   "id": "46200ec1-400a-45e4-8ca5-172e06676b8a",
   "metadata": {},
   "outputs": [],
   "source": [
    "mycursor = mydb.cursor()\n",
    "\n",
    "mycursor.execute(\n",
    "    '''\n",
    "    CREATE TABLE project1.pharmacy_fills(\n",
    "        pharmacy_id  varchar(128),\n",
    "        prescription_id  varchar(20),\n",
    "        date date,\n",
    "        cost  decimal(7,2),\n",
    "        PRIMARY KEY (prescription_id, pharmacy_id),\n",
    "        FOREIGN KEY (prescription_id) REFERENCES prescriptions (id),\n",
    "        FOREIGN KEY (pharmacy_id) REFERENCES pharmacies (id)\n",
    "    )\n",
    "    '''\n",
    ")"
   ]
  },
  {
   "cell_type": "code",
   "execution_count": 222,
   "id": "84eaee57-95eb-42c3-af15-a6f45b42d0a3",
   "metadata": {},
   "outputs": [],
   "source": [
    "mycursor = mydb.cursor()\n",
    "\n",
    "mycursor.execute(\n",
    "    '''\n",
    "    CREATE TABLE project1.companies(\n",
    "        id  varchar(20),\n",
    "        name  varchar(128),\n",
    "        address varchar(256),\n",
    "        contact_phone  varchar(20),\n",
    "        contact_name  varchar(128),\n",
    "        PRIMARY KEY (id)\n",
    "    )\n",
    "    '''\n",
    ")"
   ]
  },
  {
   "cell_type": "code",
   "execution_count": 223,
   "id": "8c8507db-bc9d-4705-9357-72218052a711",
   "metadata": {},
   "outputs": [],
   "source": [
    "mycursor = mydb.cursor()\n",
    "\n",
    "mycursor.execute(\n",
    "    '''\n",
    "    CREATE TABLE project1.contracts(\n",
    "        id  varchar(20),\n",
    "        drug_name  varchar(256),\n",
    "        dosage  decimal(7,3),\n",
    "        pharmacy_id  varchar(128),\n",
    "        company_id  varchar(20),\n",
    "        quantity  int,\n",
    "        date  date,\n",
    "        price  decimal(7,3),\n",
    "        PRIMARY KEY (id),\n",
    "        FOREIGN KEY (company_id) REFERENCES companies (id),\n",
    "        FOREIGN KEY (pharmacy_id) REFERENCES pharmacies (id),\n",
    "        FOREIGN KEY (drug_name) REFERENCES drugs (name)\n",
    "    )\n",
    "    '''\n",
    ")"
   ]
  },
  {
   "cell_type": "code",
   "execution_count": 224,
   "id": "8b8761b0-7d00-4105-b13c-7aa1cc327f08",
   "metadata": {},
   "outputs": [],
   "source": [
    "mycursor = mydb.cursor()\n",
    "\n",
    "mycursor.execute(\n",
    "    '''\n",
    "    CREATE TABLE project1.alerts(\n",
    "        patient_id  varchar(11),\n",
    "        physician_id  varchar(11),\n",
    "        alert_date  date,\n",
    "        drug1  varchar(256),\n",
    "        drug2  varchar(256),\n",
    "        PRIMARY KEY (patient_id, physician_id, alert_date, drug1, drug2),\n",
    "        FOREIGN KEY (patient_id) REFERENCES patients (ssn),\n",
    "        FOREIGN KEY (physician_id) REFERENCES physicians (ssn),\n",
    "        FOREIGN KEY (patient_id, drug1) REFERENCES prescriptions (patient_id, drug_name),\n",
    "        FOREIGN KEY (patient_id, drug2) REFERENCES prescriptions (patient_id, drug_name)\n",
    "    )\n",
    "    '''\n",
    ")"
   ]
  },
  {
   "cell_type": "code",
   "execution_count": 225,
   "id": "3cb35103",
   "metadata": {},
   "outputs": [],
   "source": [
    "#redo table\n",
    "mycursor = mydb.cursor()\n",
    "\n",
    "mycursor.execute(\"DROP TRIGGER IF EXISTS alerts;\")"
   ]
  },
  {
   "cell_type": "code",
   "execution_count": 226,
   "id": "d6180f79",
   "metadata": {},
   "outputs": [],
   "source": [
    "mycursor = mydb.cursor()\n",
    "\n",
    "mycursor.execute(\n",
    "    '''\n",
    "    CREATE TRIGGER alerts\n",
    "    AFTER INSERT ON project1.prescriptions\n",
    "    FOR EACH ROW\n",
    "    BEGIN\n",
    "        INSERT INTO project1.alerts (patient_id, physician_id, alert_date, drug1, drug2)\n",
    "        SELECT DISTINCT P.patient_id, NEW.physician_id, NEW.date, P.drug_name, NEW.drug_name\n",
    "        FROM project1.prescriptions AS P\n",
    "        INNER JOIN project1.adverse_interactions A ON\n",
    "            (A.drug_name = P.drug_name AND A.drug_name_2 = NEW.drug_name)\n",
    "            OR (A.drug_name = NEW.drug_name AND A.drug_name_2 = P.drug_name)\n",
    "        WHERE P.patient_id = NEW.patient_id;\n",
    "    END;\n",
    "    '''\n",
    ")"
   ]
  },
  {
   "cell_type": "code",
   "execution_count": 227,
   "id": "fe91f343",
   "metadata": {},
   "outputs": [],
   "source": [
    "import pandas as pd\n",
    "import numpy as np"
   ]
  },
  {
   "cell_type": "code",
   "execution_count": 228,
   "id": "11eb8ec7",
   "metadata": {},
   "outputs": [
    {
     "name": "stdout",
     "output_type": "stream",
     "text": [
      "Record inserted\n",
      "Record inserted\n",
      "Record inserted\n",
      "Record inserted\n",
      "Record inserted\n",
      "Record inserted\n",
      "Record inserted\n",
      "Record inserted\n",
      "Record inserted\n",
      "Record inserted\n",
      "Record inserted\n",
      "Record inserted\n"
     ]
    }
   ],
   "source": [
    "data = pd.read_csv(\"physicians.csv\")\n",
    "\n",
    "for i,row in data.iterrows():\n",
    "            sql = \"INSERT INTO project1.physicians VALUES (%s,%s,%s,%s)\"\n",
    "            mycursor.execute(sql, tuple(row))\n",
    "            print(\"Record inserted\")\n",
    "            mydb.commit()"
   ]
  },
  {
   "cell_type": "code",
   "execution_count": 229,
   "id": "f772ee6f",
   "metadata": {},
   "outputs": [
    {
     "name": "stdout",
     "output_type": "stream",
     "text": [
      "Record inserted\n",
      "Record inserted\n",
      "Record inserted\n",
      "Record inserted\n",
      "Record inserted\n",
      "Record inserted\n",
      "Record inserted\n",
      "Record inserted\n",
      "Record inserted\n",
      "Record inserted\n",
      "Record inserted\n",
      "Record inserted\n"
     ]
    }
   ],
   "source": [
    "data = pd.read_csv(\"patients.csv\")\n",
    "data['birthdate'] = pd.to_datetime(data['birthdate']).dt.date\n",
    "\n",
    "for i,row in data.iterrows():\n",
    "            sql = \"INSERT INTO project1.patients VALUES (%s,%s,%s,%s,%s)\"\n",
    "            mycursor.execute(sql, tuple(row))\n",
    "            print(\"Record inserted\")\n",
    "            mydb.commit()"
   ]
  },
  {
   "cell_type": "code",
   "execution_count": 230,
   "id": "693f54c9",
   "metadata": {},
   "outputs": [
    {
     "name": "stdout",
     "output_type": "stream",
     "text": [
      "Record inserted\n",
      "Record inserted\n",
      "Record inserted\n",
      "Record inserted\n",
      "Record inserted\n",
      "Record inserted\n",
      "Record inserted\n",
      "Record inserted\n",
      "Record inserted\n",
      "Record inserted\n",
      "Record inserted\n",
      "Record inserted\n",
      "Record inserted\n",
      "Record inserted\n",
      "Record inserted\n"
     ]
    }
   ],
   "source": [
    "data = pd.read_csv(\"pharmacies.csv\")\n",
    "\n",
    "for i,row in data.iterrows():\n",
    "            sql = \"INSERT INTO project1.pharmacies VALUES (%s,%s,%s,%s)\"\n",
    "            mycursor.execute(sql, tuple(row))\n",
    "            print(\"Record inserted\")\n",
    "            mydb.commit()"
   ]
  },
  {
   "cell_type": "code",
   "execution_count": 231,
   "id": "ac4e1a63",
   "metadata": {},
   "outputs": [
    {
     "name": "stdout",
     "output_type": "stream",
     "text": [
      "Record inserted\n",
      "Record inserted\n",
      "Record inserted\n",
      "Record inserted\n",
      "Record inserted\n",
      "Record inserted\n",
      "Record inserted\n",
      "Record inserted\n",
      "Record inserted\n",
      "Record inserted\n"
     ]
    }
   ],
   "source": [
    "data = pd.read_csv(\"drugs.csv\")\n",
    "\n",
    "for i,row in data.iterrows():\n",
    "            sql = \"INSERT INTO project1.drugs VALUES (%s,%s)\"\n",
    "            mycursor.execute(sql, tuple(row))\n",
    "            print(\"Record inserted\")\n",
    "            mydb.commit()"
   ]
  },
  {
   "cell_type": "code",
   "execution_count": 232,
   "id": "ad11ba4d",
   "metadata": {},
   "outputs": [
    {
     "name": "stdout",
     "output_type": "stream",
     "text": [
      "Record inserted\n",
      "Record inserted\n",
      "Record inserted\n",
      "Record inserted\n",
      "Record inserted\n",
      "Record inserted\n",
      "Record inserted\n",
      "Record inserted\n",
      "Record inserted\n"
     ]
    }
   ],
   "source": [
    "data = pd.read_csv(\"adverse_reactions.csv\")\n",
    "\n",
    "for i,row in data.iterrows():\n",
    "            sql = \"INSERT INTO project1.adverse_interactions VALUES (%s,%s)\"\n",
    "            mycursor.execute(sql, tuple(row))\n",
    "            print(\"Record inserted\")\n",
    "            mydb.commit()"
   ]
  },
  {
   "cell_type": "code",
   "execution_count": 233,
   "id": "0a455289",
   "metadata": {},
   "outputs": [
    {
     "name": "stdout",
     "output_type": "stream",
     "text": [
      "Record inserted\n",
      "Record inserted\n",
      "Record inserted\n",
      "Record inserted\n",
      "Record inserted\n",
      "Record inserted\n",
      "Record inserted\n",
      "Record inserted\n",
      "Record inserted\n",
      "Record inserted\n",
      "Record inserted\n",
      "Record inserted\n",
      "Record inserted\n",
      "Record inserted\n",
      "Record inserted\n",
      "Record inserted\n"
     ]
    }
   ],
   "source": [
    "data = pd.read_csv(\"prescriptions.csv\")\n",
    "data['date'] = pd.to_datetime(data['date'], format='%m/%d/%Y').dt.strftime('%Y-%m-%d')\n",
    "\n",
    "for i,row in data.iterrows():\n",
    "            sql = \"INSERT INTO project1.prescriptions VALUES (%s,%s,%s,%s,%s,%s)\"\n",
    "            mycursor.execute(sql, tuple(row))\n",
    "            print(\"Record inserted\")\n",
    "            mydb.commit()"
   ]
  },
  {
   "cell_type": "code",
   "execution_count": 234,
   "id": "5a074063",
   "metadata": {},
   "outputs": [
    {
     "name": "stdout",
     "output_type": "stream",
     "text": [
      "Record inserted\n",
      "Record inserted\n",
      "Record inserted\n",
      "Record inserted\n",
      "Record inserted\n",
      "Record inserted\n",
      "Record inserted\n",
      "Record inserted\n",
      "Record inserted\n",
      "Record inserted\n",
      "Record inserted\n",
      "Record inserted\n",
      "Record inserted\n",
      "Record inserted\n",
      "Record inserted\n",
      "Record inserted\n"
     ]
    }
   ],
   "source": [
    "data = pd.read_csv(\"pharmacy_fills.csv\")\n",
    "data['date'] = pd.to_datetime(data['date'], format='%m/%d/%Y').dt.strftime('%Y-%m-%d')\n",
    "data = data.replace({np.nan: None})\n",
    "\n",
    "for i,row in data.iterrows():\n",
    "            sql = \"INSERT INTO project1.pharmacy_fills VALUES (%s,%s,%s,%s)\"\n",
    "            mycursor.execute(sql, tuple(row))\n",
    "            print(\"Record inserted\")\n",
    "            mydb.commit()"
   ]
  },
  {
   "cell_type": "code",
   "execution_count": 235,
   "id": "20452261",
   "metadata": {},
   "outputs": [
    {
     "name": "stdout",
     "output_type": "stream",
     "text": [
      "Record inserted\n",
      "Record inserted\n",
      "Record inserted\n",
      "Record inserted\n",
      "Record inserted\n",
      "Record inserted\n",
      "Record inserted\n",
      "Record inserted\n",
      "Record inserted\n",
      "Record inserted\n"
     ]
    }
   ],
   "source": [
    "data = pd.read_csv(\"companies.csv\")\n",
    "\n",
    "for i,row in data.iterrows():\n",
    "            sql = \"INSERT INTO project1.companies VALUES (%s,%s,%s,%s,%s)\"\n",
    "            mycursor.execute(sql, tuple(row))\n",
    "            print(\"Record inserted\")\n",
    "            mydb.commit()"
   ]
  },
  {
   "cell_type": "code",
   "execution_count": 236,
   "id": "4da1f438",
   "metadata": {},
   "outputs": [
    {
     "name": "stdout",
     "output_type": "stream",
     "text": [
      "Record inserted\n",
      "Record inserted\n",
      "Record inserted\n",
      "Record inserted\n",
      "Record inserted\n",
      "Record inserted\n",
      "Record inserted\n",
      "Record inserted\n",
      "Record inserted\n",
      "Record inserted\n",
      "Record inserted\n",
      "Record inserted\n",
      "Record inserted\n",
      "Record inserted\n",
      "Record inserted\n",
      "Record inserted\n"
     ]
    }
   ],
   "source": [
    "data = pd.read_csv(\"contracts.csv\")\n",
    "data['date'] = pd.to_datetime(data['date'], format='%m/%d/%Y').dt.strftime('%Y-%m-%d')\n",
    "\n",
    "for i,row in data.iterrows():\n",
    "            sql = \"INSERT INTO project1.contracts VALUES (%s,%s,%s,%s,%s,%s,%s,%s)\"\n",
    "            mycursor.execute(sql, tuple(row))\n",
    "            print(\"Record inserted\")\n",
    "            mydb.commit()"
   ]
  },
  {
   "cell_type": "markdown",
   "id": "c20a1fdf",
   "metadata": {},
   "source": [
    "Write a trigger that inserts a tuple in the alerts table when a patient is prescribed a drug (i.e., after inserting a new row in the prescriptions table)  that adversely interacts with a drug the patient was earlier prescribed. So the event for the trigger is a patient being ascribed a drug (i.e., the insertion of a new row in the prescriptions table); the condition to be checked is whether the patient was earlier prescribed a drug that adversely interacts with the newly prescribed drug; the action is to insert a new tuple in the alerts table, where drug1 is the earlier prescribed drug and drug2 is the newly prescribed drug."
   ]
  },
  {
   "cell_type": "markdown",
   "id": "37be5f13",
   "metadata": {},
   "source": [
    "Find the physicians (ssn) who have most prescribed drugs which caused alerts (due to possible adverse interaction with a previously prescribed drug, not necessarily by the same physician).\n",
    "Find the physicians (ssn) who have prescribed two drugs to the same patient which have adverse interactions.\n",
    "\n",
    "Find the physicians who have prescribed most drugs supplied by company DRUGXO.\n",
    "\n",
    "For each drug supplied by company PHARMASEE display the price (per unit of quantity) charged by that company for that drug along with the average price charged for that drug (by companies, not pharmacies). Note: As it happens in the data we supplied each drug is supplied by only one company, but your query should not be based on that.\n",
    "\n",
    "For each drug and for each pharmacy, find the percentage of the markup (per unit of quantity) for that drug by that pharmacy.\n",
    "\n",
    "For each drug, find the average time between when a patient was prescribed a drug and when the prescription was filled at a pharmacy. (You will need to extract the components of a date to compute this. mySQL provides functions for doing this and the official documentation here can help provide the appropriate functions: https://dev.mysql.com/doc/refman/8.4/en/date-and-time-functions.htmlLinks to an external site.).\n",
    "\n",
    "For each pharmacy, find all the drugs that were prescribed to a patient and never filled at that pharmacy."
   ]
  },
  {
   "cell_type": "markdown",
   "id": "3c704201",
   "metadata": {},
   "source": [
    "The hospital administration needs to retrieve from time to time primary specialty and years of experience of a given physician. Write a stored procedure that can be used to do that."
   ]
  },
  {
   "cell_type": "code",
   "execution_count": null,
   "id": "29568c04",
   "metadata": {},
   "outputs": [
    {
     "name": "stdout",
     "output_type": "stream",
     "text": [
      "[('Orthopedics', Decimal('3.00'))]\n"
     ]
    }
   ],
   "source": [
    "mycursor.execute(\"DROP PROCEDURE IF EXISTS retrieve_phy\")\n",
    "\n",
    "mycursor.execute(\n",
    "    '''\n",
    "    CREATE PROCEDURE retrieve_phy (\n",
    "        IN ssn_in VARCHAR(11),\n",
    "        OUT out_primary_specialty VARCHAR(256),\n",
    "        OUT out_experience_years DECIMAL(5, 2)\n",
    "    )\n",
    "    BEGIN\n",
    "        SELECT primary_specialty, experience_years \n",
    "        INTO out_primary_specialty, out_experience_years\n",
    "        FROM physicians\n",
    "        WHERE ssn = ssn_in;\n",
    "    END;\n",
    "    '''\n",
    ")\n",
    "\n",
    "mycursor.execute(\"CALL retrieve_phy('118-66-5958', @primary_specialty, @experience_years)\")\n",
    "mycursor.execute(\"SELECT @primary_specialty, @experience_years\")\n",
    "result = mycursor.fetchall()\n",
    "print(result)"
   ]
  },
  {
   "cell_type": "code",
   "execution_count": null,
   "id": "e53eb941",
   "metadata": {},
   "outputs": [],
   "source": []
  }
 ],
 "metadata": {
  "kernelspec": {
   "display_name": "base",
   "language": "python",
   "name": "python3"
  },
  "language_info": {
   "codemirror_mode": {
    "name": "ipython",
    "version": 3
   },
   "file_extension": ".py",
   "mimetype": "text/x-python",
   "name": "python",
   "nbconvert_exporter": "python",
   "pygments_lexer": "ipython3",
   "version": "3.12.4"
  }
 },
 "nbformat": 4,
 "nbformat_minor": 5
}
