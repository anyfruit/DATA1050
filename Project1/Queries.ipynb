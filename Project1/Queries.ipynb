{
 "cells": [
  {
   "cell_type": "code",
   "execution_count": 1,
   "metadata": {},
   "outputs": [
    {
     "name": "stdout",
     "output_type": "stream",
     "text": [
      "<mysql.connector.connection_cext.CMySQLConnection object at 0x10c80c800>\n",
      "CONNECTION SUCCESSFUL\n"
     ]
    }
   ],
   "source": [
    "import mysql.connector\n",
    " \n",
    "mydb = mysql.connector.connect(\n",
    "  host=\"localhost\",\n",
    "  user=\"root\",\n",
    "  password=\"Yankejing020711\"   #REPLACE THIS WITH THE PASSWORD YOU SET\n",
    ")\n",
    " \n",
    "print(mydb)\n",
    " \n",
    "if mydb.is_connected():\n",
    "    print(\"CONNECTION SUCCESSFUL\")"
   ]
  },
  {
   "cell_type": "code",
   "execution_count": 2,
   "metadata": {},
   "outputs": [],
   "source": [
    "mydb = mysql.connector.connect(\n",
    "  host=\"localhost\",\n",
    "  user=\"root\",\n",
    "  password=\"Yankejing020711\", #REPLACE THIS WITH YOUR PASSWORD \n",
    "  database = \"project1\" #connecting to testDatabase\n",
    ")\n",
    "\n",
    "#redo table\n",
    "mycursor = mydb.cursor()"
   ]
  },
  {
   "cell_type": "code",
   "execution_count": 3,
   "metadata": {},
   "outputs": [
    {
     "name": "stdout",
     "output_type": "stream",
     "text": [
      "('156-28-1945',)\n",
      "('571-13-9020',)\n"
     ]
    }
   ],
   "source": [
    "# Q1\n",
    "query = '''\n",
    "SELECT N.physician_id\n",
    "FROM (SELECT A.physician_id, COUNT(A.physician_id) AS physician_count\n",
    "\t  FROM project1.alerts  AS A\n",
    "      GROUP BY A.physician_id) AS N\n",
    "WHERE N.physician_count = (\n",
    "\tSELECT MAX(physician_count)\n",
    "    FROM (\n",
    "        SELECT COUNT(A.physician_id) AS physician_count\n",
    "        FROM project1.alerts AS A\n",
    "        GROUP BY A.physician_id\n",
    "    ) AS M\n",
    "    );\n",
    "'''\n",
    "mycursor.execute(query)\n",
    "for x in mycursor:\n",
    "    print(x)"
   ]
  },
  {
   "cell_type": "code",
   "execution_count": 4,
   "metadata": {},
   "outputs": [
    {
     "name": "stdout",
     "output_type": "stream",
     "text": [
      "('156-28-1945',)\n",
      "('571-13-9020',)\n",
      "('614-57-6885',)\n"
     ]
    }
   ],
   "source": [
    "# Q2\n",
    "query = '''\n",
    "SELECT DISTINCT physician_id\n",
    "FROM alerts;\n",
    "'''\n",
    "mycursor.execute(query)\n",
    "for x in mycursor:\n",
    "    print(x)"
   ]
  },
  {
   "cell_type": "code",
   "execution_count": 5,
   "metadata": {},
   "outputs": [
    {
     "name": "stdout",
     "output_type": "stream",
     "text": [
      "('571-13-9020',)\n"
     ]
    }
   ],
   "source": [
    "# Q3\n",
    "query = '''\n",
    "SELECT physician_id\n",
    "FROM (\n",
    "\tSELECT P.physician_id, COUNT(P.physician_id) AS physician_count\n",
    "\tFROM prescriptions AS P\n",
    "\tJOIN contracts AS C ON P.drug_name = C.drug_name\n",
    "\tJOIN companies AS CO ON C.company_id = CO.id\n",
    "    WHERE CO.name = 'DRUGXO'\n",
    "    GROUP BY physician_id\n",
    ") AS physician_counts\n",
    "WHERE physician_count = (\n",
    "\tSELECT MAX(physician_count)\n",
    "    FROM (\n",
    "\t\tSELECT P.physician_id, COUNT(P.physician_id) AS physician_count\n",
    "\t\tFROM prescriptions AS P\n",
    "\t\tJOIN contracts AS C ON P.drug_name = C.drug_name\n",
    "\t\tJOIN companies AS CO ON C.company_id = CO.id\n",
    "        WHERE CO.name = 'DRUGXO'\n",
    "\t\tGROUP BY P.physician_id\n",
    "\t) AS inner_counts\n",
    ");\n",
    "'''\n",
    "mycursor.execute(query)\n",
    "for x in mycursor:\n",
    "    print(x)"
   ]
  },
  {
   "cell_type": "code",
   "execution_count": 6,
   "metadata": {},
   "outputs": [
    {
     "name": "stdout",
     "output_type": "stream",
     "text": [
      "('Glucozepam Amcipentin', Decimal('1.5900000'), Decimal('1.5900000'))\n"
     ]
    }
   ],
   "source": [
    "# Q4\n",
    "query = '''\n",
    "SELECT \n",
    "    C.drug_name, \n",
    "    SUM(C.price) / SUM(C.quantity) AS price_per_unit,\n",
    "    (SELECT SUM(price) / SUM(quantity) \n",
    "     FROM contracts \n",
    "     WHERE drug_name = C.drug_name) AS avg_price\n",
    "FROM contracts AS C\n",
    "JOIN companies AS CO ON C.company_id = CO.id\n",
    "WHERE CO.name = 'PHARMASEE'\n",
    "GROUP BY C.drug_name;\n",
    "'''\n",
    "mycursor.execute(query)\n",
    "for x in mycursor:\n",
    "    print(x)"
   ]
  },
  {
   "cell_type": "code",
   "execution_count": 7,
   "metadata": {},
   "outputs": [
    {
     "name": "stdout",
     "output_type": "stream",
     "text": [
      "('Avafoxin', '8', None)\n",
      "('Cleotrana', '2', None)\n",
      "('Dantopex Quixilinum', '12', None)\n",
      "('Cleotrana', '14', None)\n",
      "('Avafoxin', '6', None)\n",
      "('Quixiposide', '7', None)\n",
      "('Avafoxin', '9', None)\n",
      "('Kanulin', '4', Decimal('917.85714285714'))\n",
      "('Cleotrana', '1', None)\n",
      "('Primalovir', '1', None)\n",
      "('Glucozepam Amcipentin', '3', None)\n",
      "('Olanzanafine', '10', None)\n",
      "('Primalovir', '7', None)\n",
      "('Abnazole Toleluble', '5', None)\n",
      "('Avafoxin', '5', None)\n",
      "('Glucozepam Amcipentin', '11', None)\n"
     ]
    }
   ],
   "source": [
    "# Q5\n",
    "query = '''\n",
    "SELECT P.drug_name, PF.pharmacy_id, (((PF.cost/P.quantity)-(C.price/C.quantity))/(C.price/C.quantity))*100 AS markup\n",
    "FROM prescriptions AS P\n",
    "LEFT JOIN pharmacy_fills AS PF ON PF.prescription_id = P.id\n",
    "LEFT JOIN contracts AS C ON (C.pharmacy_id, C.drug_name) = (PF.pharmacy_id, P.drug_name);\n",
    "'''\n",
    "mycursor.execute(query)\n",
    "for x in mycursor:\n",
    "    print(x)"
   ]
  },
  {
   "cell_type": "code",
   "execution_count": 8,
   "metadata": {},
   "outputs": [
    {
     "name": "stdout",
     "output_type": "stream",
     "text": [
      "('Abnazole Toleluble', Decimal('4.0000'))\n",
      "('Avafoxin', Decimal('1.7500'))\n",
      "('Cleotrana', Decimal('1.3333'))\n",
      "('Dantopex Quixilinum', Decimal('2.0000'))\n",
      "('Divisporine Acetaclotide', None)\n",
      "('Glucozepam Amcipentin', Decimal('1.5000'))\n",
      "('Kanulin', Decimal('0.0000'))\n",
      "('Olanzanafine', Decimal('2.0000'))\n",
      "('Primalovir', Decimal('-13.5000'))\n",
      "('Quixiposide', Decimal('2.0000'))\n"
     ]
    }
   ],
   "source": [
    "# Q6\n",
    "query = '''\n",
    "SELECT D.name, AVG(DATEDIFF(PF.date, P.date)) AS avg_day_between\n",
    "FROM drugs AS D\n",
    "LEFT JOIN prescriptions AS P ON D.name = P.drug_name\n",
    "LEFT JOIN pharmacy_fills AS PF ON P.id = PF.prescription_id\n",
    "GROUP BY D.name;\n",
    "'''\n",
    "mycursor.execute(query)\n",
    "for x in mycursor:\n",
    "    print(x)"
   ]
  },
  {
   "cell_type": "code",
   "execution_count": 9,
   "metadata": {},
   "outputs": [
    {
     "name": "stdout",
     "output_type": "stream",
     "text": [
      "('1', 'Abnazole Toleluble')\n",
      "('1', 'Avafoxin')\n",
      "('1', 'Dantopex Quixilinum')\n",
      "('1', 'Glucozepam Amcipentin')\n",
      "('1', 'Kanulin')\n",
      "('1', 'Olanzanafine')\n",
      "('1', 'Quixiposide')\n",
      "('10', 'Abnazole Toleluble')\n",
      "('10', 'Avafoxin')\n",
      "('10', 'Cleotrana')\n",
      "('10', 'Dantopex Quixilinum')\n",
      "('10', 'Glucozepam Amcipentin')\n",
      "('10', 'Kanulin')\n",
      "('10', 'Primalovir')\n",
      "('10', 'Quixiposide')\n",
      "('11', 'Abnazole Toleluble')\n",
      "('11', 'Avafoxin')\n",
      "('11', 'Cleotrana')\n",
      "('11', 'Dantopex Quixilinum')\n",
      "('11', 'Kanulin')\n",
      "('11', 'Olanzanafine')\n",
      "('11', 'Primalovir')\n",
      "('11', 'Quixiposide')\n",
      "('12', 'Abnazole Toleluble')\n",
      "('12', 'Avafoxin')\n",
      "('12', 'Cleotrana')\n",
      "('12', 'Glucozepam Amcipentin')\n",
      "('12', 'Kanulin')\n",
      "('12', 'Olanzanafine')\n",
      "('12', 'Primalovir')\n",
      "('12', 'Quixiposide')\n",
      "('13', 'Abnazole Toleluble')\n",
      "('13', 'Avafoxin')\n",
      "('13', 'Cleotrana')\n",
      "('13', 'Dantopex Quixilinum')\n",
      "('13', 'Glucozepam Amcipentin')\n",
      "('13', 'Kanulin')\n",
      "('13', 'Olanzanafine')\n",
      "('13', 'Primalovir')\n",
      "('13', 'Quixiposide')\n",
      "('14', 'Abnazole Toleluble')\n",
      "('14', 'Avafoxin')\n",
      "('14', 'Dantopex Quixilinum')\n",
      "('14', 'Glucozepam Amcipentin')\n",
      "('14', 'Kanulin')\n",
      "('14', 'Olanzanafine')\n",
      "('14', 'Primalovir')\n",
      "('14', 'Quixiposide')\n",
      "('15', 'Abnazole Toleluble')\n",
      "('15', 'Avafoxin')\n",
      "('15', 'Cleotrana')\n",
      "('15', 'Dantopex Quixilinum')\n",
      "('15', 'Glucozepam Amcipentin')\n",
      "('15', 'Kanulin')\n",
      "('15', 'Olanzanafine')\n",
      "('15', 'Primalovir')\n",
      "('15', 'Quixiposide')\n",
      "('2', 'Abnazole Toleluble')\n",
      "('2', 'Avafoxin')\n",
      "('2', 'Dantopex Quixilinum')\n",
      "('2', 'Glucozepam Amcipentin')\n",
      "('2', 'Kanulin')\n",
      "('2', 'Olanzanafine')\n",
      "('2', 'Primalovir')\n",
      "('2', 'Quixiposide')\n",
      "('3', 'Abnazole Toleluble')\n",
      "('3', 'Avafoxin')\n",
      "('3', 'Cleotrana')\n",
      "('3', 'Dantopex Quixilinum')\n",
      "('3', 'Kanulin')\n",
      "('3', 'Olanzanafine')\n",
      "('3', 'Primalovir')\n",
      "('3', 'Quixiposide')\n",
      "('4', 'Abnazole Toleluble')\n",
      "('4', 'Avafoxin')\n",
      "('4', 'Cleotrana')\n",
      "('4', 'Dantopex Quixilinum')\n",
      "('4', 'Glucozepam Amcipentin')\n",
      "('4', 'Olanzanafine')\n",
      "('4', 'Primalovir')\n",
      "('4', 'Quixiposide')\n",
      "('5', 'Cleotrana')\n",
      "('5', 'Dantopex Quixilinum')\n",
      "('5', 'Glucozepam Amcipentin')\n",
      "('5', 'Kanulin')\n",
      "('5', 'Olanzanafine')\n",
      "('5', 'Primalovir')\n",
      "('5', 'Quixiposide')\n",
      "('6', 'Abnazole Toleluble')\n",
      "('6', 'Cleotrana')\n",
      "('6', 'Dantopex Quixilinum')\n",
      "('6', 'Glucozepam Amcipentin')\n",
      "('6', 'Kanulin')\n",
      "('6', 'Olanzanafine')\n",
      "('6', 'Primalovir')\n",
      "('6', 'Quixiposide')\n",
      "('7', 'Abnazole Toleluble')\n",
      "('7', 'Avafoxin')\n",
      "('7', 'Cleotrana')\n",
      "('7', 'Dantopex Quixilinum')\n",
      "('7', 'Glucozepam Amcipentin')\n",
      "('7', 'Kanulin')\n",
      "('7', 'Olanzanafine')\n",
      "('8', 'Abnazole Toleluble')\n",
      "('8', 'Cleotrana')\n",
      "('8', 'Dantopex Quixilinum')\n",
      "('8', 'Glucozepam Amcipentin')\n",
      "('8', 'Kanulin')\n",
      "('8', 'Olanzanafine')\n",
      "('8', 'Primalovir')\n",
      "('8', 'Quixiposide')\n",
      "('9', 'Abnazole Toleluble')\n",
      "('9', 'Cleotrana')\n",
      "('9', 'Dantopex Quixilinum')\n",
      "('9', 'Glucozepam Amcipentin')\n",
      "('9', 'Kanulin')\n",
      "('9', 'Olanzanafine')\n",
      "('9', 'Primalovir')\n",
      "('9', 'Quixiposide')\n"
     ]
    }
   ],
   "source": [
    "# Q7\n",
    "query = '''\n",
    "SELECT DISTINCT P.id AS pharmacy_id, D.name AS drug_name\n",
    "FROM pharmacies P\n",
    "CROSS JOIN drugs D\n",
    "LEFT JOIN (\n",
    "\tSELECT PR.drug_name, PF.pharmacy_id\n",
    "\tFROM pharmacy_fills PF\n",
    "\tJOIN prescriptions PR ON PF.prescription_id = PR.id) AS PF \n",
    "    ON P.id = PF.pharmacy_id AND D.name = PF.drug_name\n",
    "\tWHERE \n",
    "\t\tNOT EXISTS (\n",
    "        #Filled x drug at x pharmacy\n",
    "        SELECT 1\n",
    "        FROM pharmacy_fills PF\n",
    "        WHERE PF.pharmacy_id = P.id AND PF.drug_name = D.name\n",
    "    )\n",
    "AND EXISTS (\n",
    "    #Existed prescription for the drug\n",
    "    SELECT 1\n",
    "    FROM prescriptions PR\n",
    "    WHERE PR.drug_name = D.name\n",
    ");\n",
    "'''\n",
    "mycursor.execute(query)\n",
    "for x in mycursor:\n",
    "    print(x)"
   ]
  },
  {
   "cell_type": "code",
   "execution_count": 10,
   "metadata": {},
   "outputs": [
    {
     "name": "stdout",
     "output_type": "stream",
     "text": [
      "('501-47-2038', '156-28-1945', datetime.date(2023, 9, 22), 'Avafoxin', 'Kanulin')\n",
      "('501-47-2038', '156-28-1945', datetime.date(2023, 9, 22), 'Cleotrana', 'Avafoxin')\n",
      "('501-47-2038', '156-28-1945', datetime.date(2023, 9, 22), 'Cleotrana', 'Kanulin')\n",
      "('303-13-5928', '571-13-9020', datetime.date(2023, 5, 24), 'Olanzanafine', 'Primalovir')\n",
      "('303-13-5928', '571-13-9020', datetime.date(2023, 5, 24), 'Primalovir', 'Abnazole Toleluble')\n",
      "('303-13-5928', '571-13-9020', datetime.date(2023, 6, 22), 'Olanzanafine', 'Glucozepam Amcipentin')\n",
      "('478-34-0781', '614-57-6885', datetime.date(2023, 9, 17), 'Avafoxin', 'Quixiposide')\n"
     ]
    }
   ],
   "source": [
    "# ALERT TABLE\n",
    "query = '''\n",
    "SELECT * FROM alerts;\n",
    "'''\n",
    "mycursor.execute(query)\n",
    "for x in mycursor:\n",
    "    print(x)"
   ]
  }
 ],
 "metadata": {
  "kernelspec": {
   "display_name": "base",
   "language": "python",
   "name": "python3"
  },
  "language_info": {
   "codemirror_mode": {
    "name": "ipython",
    "version": 3
   },
   "file_extension": ".py",
   "mimetype": "text/x-python",
   "name": "python",
   "nbconvert_exporter": "python",
   "pygments_lexer": "ipython3",
   "version": "3.12.4"
  }
 },
 "nbformat": 4,
 "nbformat_minor": 2
}
